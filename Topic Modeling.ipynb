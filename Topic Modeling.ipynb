{
 "cells": [
  {
   "cell_type": "markdown",
   "id": "bce2bb89",
   "metadata": {},
   "source": [
    "# ADS 509 Assignment 5.1: Topic Modeling\n",
    "\n",
    "This notebook holds Assignment 5.1 for Module 5 in ADS 509, Applied Text Mining. Work through this notebook, writing code and answering questions where required. \n",
    "\n",
    "In this assignment you will work with a categorical corpus that accompanies `nltk`. You will build the three types of topic models described in Chapter 8 of _Blueprints for Text Analytics using Python_: NMF, LSA, and LDA. You will compare these models to the true categories. \n"
   ]
  },
  {
   "cell_type": "markdown",
   "id": "d87e2c06",
   "metadata": {},
   "source": [
    "## General Assignment Instructions\n",
    "\n",
    "These instructions are included in every assignment, to remind you of the coding standards for the class. Feel free to delete this cell after reading it. \n",
    "\n",
    "One sign of mature code is conforming to a style guide. We recommend the [Google Python Style Guide](https://google.github.io/styleguide/pyguide.html). If you use a different style guide, please include a cell with a link. \n",
    "\n",
    "Your code should be relatively easy-to-read, sensibly commented, and clean. Writing code is a messy process, so please be sure to edit your final submission. Remove any cells that are not needed or parts of cells that contain unnecessary code. Remove inessential `import` statements and make sure that all such statements are moved into the designated cell. \n",
    "\n",
    "Make use of non-code cells for written commentary. These cells should be grammatical and clearly written. In some of these cells you will have questions to answer. The questions will be marked by a \"Q:\" and will have a corresponding \"A:\" spot for you. *Make sure to answer every question marked with a `Q:` for full credit.* \n"
   ]
  },
  {
   "cell_type": "code",
   "execution_count": 45,
   "id": "1c9d327c",
   "metadata": {},
   "outputs": [
    {
     "name": "stdout",
     "output_type": "stream",
     "text": [
      "\u001b[38;5;2m✔ Download and installation successful\u001b[0m\n",
      "You can now load the package via spacy.load('en_core_web_sm')\n",
      "\u001b[38;5;3m⚠ Restart to reload dependencies\u001b[0m\n",
      "If you are in a Jupyter or Colab notebook, you may need to restart Python in\n",
      "order to load all the package's dependencies. You can do this by selecting the\n",
      "'Restart kernel' or 'Restart runtime' option.\n"
     ]
    }
   ],
   "source": [
    "spacy.cli.download(\"en_core_web_sm\")"
   ]
  },
  {
   "cell_type": "code",
   "execution_count": 46,
   "id": "a85bce08",
   "metadata": {},
   "outputs": [
    {
     "name": "stderr",
     "output_type": "stream",
     "text": [
      "[nltk_data] Downloading package brown to\n",
      "[nltk_data]     C:\\Users\\tarad\\AppData\\Roaming\\nltk_data...\n",
      "[nltk_data]   Package brown is already up-to-date!\n"
     ]
    }
   ],
   "source": [
    "# These libraries may be useful to you\n",
    "\n",
    "#!pip install pyLDAvis==3.4.1 --user  #You need to restart the Kernel after installation.\n",
    "# You also need a Python version => 3.9.0\n",
    "import nltk\n",
    "nltk.download('brown')\n",
    "from nltk.corpus import brown\n",
    "\n",
    "import numpy as np\n",
    "import pandas as pd\n",
    "from tqdm.auto import tqdm\n",
    "\n",
    "import pyLDAvis\n",
    "import pyLDAvis.lda_model\n",
    "import pyLDAvis.gensim_models\n",
    "\n",
    "import spacy\n",
    "from sklearn.feature_extraction.text import TfidfVectorizer, CountVectorizer\n",
    "from sklearn.decomposition import NMF, TruncatedSVD, LatentDirichletAllocation\n",
    "\n",
    "from spacy.lang.en.stop_words import STOP_WORDS as stopwords\n",
    "import en_core_web_sm\n",
    "\n",
    "from collections import Counter, defaultdict\n",
    "import spacy.cli\n",
    "\n",
    "import en_core_web_sm\n",
    "nlp = en_core_web_sm.load()"
   ]
  },
  {
   "cell_type": "code",
   "execution_count": 47,
   "id": "494de237",
   "metadata": {},
   "outputs": [],
   "source": [
    "# This function comes from the BTAP repo.\n",
    "\n",
    "def display_topics(model, features, no_top_words=5):\n",
    "    for topic, words in enumerate(model.components_):\n",
    "        total = words.sum()\n",
    "        largest = words.argsort()[::-1] # invert sort order\n",
    "        print(\"\\nTopic %02d\" % topic)\n",
    "        for i in range(0, no_top_words):\n",
    "            print(\"  %s (%2.2f)\" % (features[largest[i]], abs(words[largest[i]]*100.0/total)))"
   ]
  },
  {
   "cell_type": "markdown",
   "id": "a30a901c",
   "metadata": {},
   "source": [
    "## Getting to Know the Brown Corpus\n",
    "\n",
    "Let's spend a bit of time getting to know what's in the Brown corpus, our NLTK example of an \"overlapping\" corpus."
   ]
  },
  {
   "cell_type": "code",
   "execution_count": 48,
   "id": "457c59ed",
   "metadata": {},
   "outputs": [
    {
     "name": "stdout",
     "output_type": "stream",
     "text": [
      "For adventure we have 29 articles.\n",
      "For belles_lettres we have 75 articles.\n",
      "For editorial we have 27 articles.\n",
      "For fiction we have 29 articles.\n",
      "For government we have 30 articles.\n",
      "For hobbies we have 36 articles.\n",
      "For humor we have 9 articles.\n",
      "For learned we have 80 articles.\n",
      "For lore we have 48 articles.\n",
      "For mystery we have 24 articles.\n",
      "For news we have 44 articles.\n",
      "For religion we have 17 articles.\n",
      "For reviews we have 17 articles.\n",
      "For romance we have 29 articles.\n",
      "For science_fiction we have 6 articles.\n"
     ]
    }
   ],
   "source": [
    "# categories of articles in Brown corpus\n",
    "for category in brown.categories() :\n",
    "    print(f\"For {category} we have {len(brown.fileids(categories=category))} articles.\")"
   ]
  },
  {
   "cell_type": "markdown",
   "id": "23fb133c",
   "metadata": {},
   "source": [
    "Let's create a dataframe of the articles in of hobbies, editorial, government, news, and romance."
   ]
  },
  {
   "cell_type": "code",
   "execution_count": 49,
   "id": "18f50b9d",
   "metadata": {},
   "outputs": [
    {
     "data": {
      "text/plain": [
       "(166, 3)"
      ]
     },
     "execution_count": 49,
     "metadata": {},
     "output_type": "execute_result"
    }
   ],
   "source": [
    "categories = ['editorial','government','news','romance','hobbies'] \n",
    "\n",
    "category_list = []\n",
    "file_ids = []\n",
    "texts = []\n",
    "\n",
    "for category in categories : \n",
    "    for file_id in brown.fileids(categories=category) :\n",
    "        \n",
    "        # build some lists for a dataframe\n",
    "        category_list.append(category)\n",
    "        file_ids.append(file_id)\n",
    "        \n",
    "        # fetch and clean text\n",
    "        text = brown.words(fileids=file_id)\n",
    "        texts.append(\" \".join(text))\n",
    "\n",
    "        \n",
    "        \n",
    "df = pd.DataFrame()\n",
    "df['category'] = category_list\n",
    "df['id'] = file_ids\n",
    "df['text'] = texts \n",
    "\n",
    "df.shape"
   ]
  },
  {
   "cell_type": "code",
   "execution_count": 50,
   "id": "586f47de",
   "metadata": {},
   "outputs": [],
   "source": [
    "# Let's add some helpful columns on the df\n",
    "df['char_len'] = df['text'].apply(len)\n",
    "df['word_len'] = df['text'].apply(lambda x: len(x.split()))\n"
   ]
  },
  {
   "cell_type": "code",
   "execution_count": 51,
   "id": "2128fd2d",
   "metadata": {},
   "outputs": [
    {
     "data": {
      "text/plain": [
       "<Axes: xlabel='category'>"
      ]
     },
     "execution_count": 51,
     "metadata": {},
     "output_type": "execute_result"
    },
    {
     "data": {
      "image/png": "[encoded data removed]",
      "text/plain": [
       "<Figure size 1000x600 with 1 Axes>"
      ]
     },
     "metadata": {},
     "output_type": "display_data"
    }
   ],
   "source": [
    "%matplotlib inline\n",
    "df.groupby('category').agg({'word_len': 'mean'}).plot.bar(figsize=(10,6))"
   ]
  },
  {
   "cell_type": "markdown",
   "id": "554ffeb5",
   "metadata": {},
   "source": [
    "Now do our TF-IDF and Count vectorizations."
   ]
  },
  {
   "cell_type": "code",
   "execution_count": 52,
   "id": "21a7d247",
   "metadata": {},
   "outputs": [
    {
     "name": "stderr",
     "output_type": "stream",
     "text": [
      "C:\\Users\\tarad\\AppData\\Roaming\\Python\\Python310\\site-packages\\sklearn\\feature_extraction\\text.py:406: UserWarning: Your stop_words may be inconsistent with your preprocessing. Tokenizing the stop words generated tokens ['ll', 've'] not in stop_words.\n",
      "  warnings.warn(\n"
     ]
    },
    {
     "data": {
      "text/plain": [
       "(166, 4941)"
      ]
     },
     "execution_count": 52,
     "metadata": {},
     "output_type": "execute_result"
    }
   ],
   "source": [
    "count_text_vectorizer = CountVectorizer(stop_words=list(stopwords), min_df=5, max_df=0.7)\n",
    "count_text_vectors = count_text_vectorizer.fit_transform(df[\"text\"])\n",
    "count_text_vectors.shape"
   ]
  },
  {
   "cell_type": "code",
   "execution_count": 53,
   "id": "875deba9",
   "metadata": {},
   "outputs": [
    {
     "data": {
      "text/plain": [
       "(166, 4941)"
      ]
     },
     "execution_count": 53,
     "metadata": {},
     "output_type": "execute_result"
    }
   ],
   "source": [
    "tfidf_text_vectorizer = TfidfVectorizer(stop_words=list(stopwords), min_df=5, max_df=0.7)\n",
    "tfidf_text_vectors = tfidf_text_vectorizer.fit_transform(df['text'])\n",
    "tfidf_text_vectors.shape"
   ]
  },
  {
   "cell_type": "markdown",
   "id": "a1062b21",
   "metadata": {},
   "source": [
    "Q: What do the two data frames `count_text_vectors` and `tfidf_text_vectors` hold? \n",
    "\n",
    "A: The count_text_vectors data frame holds the term frequency, which indicates how often each word appears in each document. The values in this matrix are the raw counts of each word within the documents. On the other hand, tfidf_text_vectors holds the term frequency-inverse document frequency (TF-IDF) values for each word in the document. These values represent the importance of a word in a document relative to how common that word is across the entire corpus. Words that appear frequently across many documents are down-weighted, while more rare or unique words in a specific document are given higher importance. Both matrices represent 166 documents and 4941 unique terms."
   ]
  },
  {
   "cell_type": "markdown",
   "id": "f77c3f94",
   "metadata": {},
   "source": [
    "## Fitting a Non-Negative Matrix Factorization Model\n",
    "\n",
    "In this section the code to fit a five-topic NMF model has already been written. This code comes directly from the [BTAP repo](https://github.com/blueprints-for-text-analytics-python/blueprints-text), which will help you tremendously in the coming sections. "
   ]
  },
  {
   "cell_type": "code",
   "execution_count": 54,
   "id": "d28745a3",
   "metadata": {},
   "outputs": [],
   "source": [
    "nmf_text_model = NMF(n_components=5, random_state=314)\n",
    "W_text_matrix = nmf_text_model.fit_transform(tfidf_text_vectors)\n",
    "H_text_matrix = nmf_text_model.components_"
   ]
  },
  {
   "cell_type": "code",
   "execution_count": 55,
   "id": "a67185e7",
   "metadata": {},
   "outputs": [
    {
     "name": "stdout",
     "output_type": "stream",
     "text": [
      "\n",
      "Topic 00\n",
      "  mr (0.51)\n",
      "  president (0.45)\n",
      "  kennedy (0.43)\n",
      "  united (0.42)\n",
      "  khrushchev (0.40)\n",
      "\n",
      "Topic 01\n",
      "  said (0.88)\n",
      "  didn (0.46)\n",
      "  ll (0.45)\n",
      "  thought (0.42)\n",
      "  man (0.37)\n",
      "\n",
      "Topic 02\n",
      "  state (0.39)\n",
      "  development (0.36)\n",
      "  tax (0.33)\n",
      "  sales (0.30)\n",
      "  program (0.25)\n",
      "\n",
      "Topic 03\n",
      "  mrs (2.61)\n",
      "  mr (0.78)\n",
      "  said (0.63)\n",
      "  miss (0.52)\n",
      "  car (0.51)\n",
      "\n",
      "Topic 04\n",
      "  game (1.02)\n",
      "  league (0.74)\n",
      "  ball (0.72)\n",
      "  baseball (0.71)\n",
      "  team (0.66)\n"
     ]
    }
   ],
   "source": [
    "display_topics(nmf_text_model, tfidf_text_vectorizer.get_feature_names_out())"
   ]
  },
  {
   "cell_type": "markdown",
   "id": "fee51e9b",
   "metadata": {},
   "source": [
    "Now some work for you to do. Compare the NMF categorization to the original categories from the Brown Corpus.\n",
    "\n",
    "We are interested in the extent to which our NMF categorization agrees or disagrees with the original categories in the corpus. For each topic in your NMF model, tally the Brown categories and interpret the results. \n"
   ]
  },
  {
   "cell_type": "code",
   "execution_count": 56,
   "id": "7c8c8eb0",
   "metadata": {},
   "outputs": [
    {
     "data": {
      "text/html": [
       "<div>\n",
       "<style scoped>\n",
       "    .dataframe tbody tr th:only-of-type {\n",
       "        vertical-align: middle;\n",
       "    }\n",
       "\n",
       "    .dataframe tbody tr th {\n",
       "        vertical-align: top;\n",
       "    }\n",
       "\n",
       "    .dataframe thead th {\n",
       "        text-align: right;\n",
       "    }\n",
       "</style>\n",
       "<table border=\"1\" class=\"dataframe\">\n",
       "  <thead>\n",
       "    <tr style=\"text-align: right;\">\n",
       "      <th></th>\n",
       "      <th>id</th>\n",
       "      <th>category</th>\n",
       "      <th>nmf_topic</th>\n",
       "    </tr>\n",
       "  </thead>\n",
       "  <tbody>\n",
       "    <tr>\n",
       "      <th>0</th>\n",
       "      <td>cb01</td>\n",
       "      <td>editorial</td>\n",
       "      <td>2</td>\n",
       "    </tr>\n",
       "    <tr>\n",
       "      <th>1</th>\n",
       "      <td>cb02</td>\n",
       "      <td>editorial</td>\n",
       "      <td>0</td>\n",
       "    </tr>\n",
       "    <tr>\n",
       "      <th>2</th>\n",
       "      <td>cb03</td>\n",
       "      <td>editorial</td>\n",
       "      <td>0</td>\n",
       "    </tr>\n",
       "    <tr>\n",
       "      <th>3</th>\n",
       "      <td>cb04</td>\n",
       "      <td>editorial</td>\n",
       "      <td>0</td>\n",
       "    </tr>\n",
       "    <tr>\n",
       "      <th>4</th>\n",
       "      <td>cb05</td>\n",
       "      <td>editorial</td>\n",
       "      <td>0</td>\n",
       "    </tr>\n",
       "  </tbody>\n",
       "</table>\n",
       "</div>"
      ],
      "text/plain": [
       "     id   category  nmf_topic\n",
       "0  cb01  editorial          2\n",
       "1  cb02  editorial          0\n",
       "2  cb03  editorial          0\n",
       "3  cb04  editorial          0\n",
       "4  cb05  editorial          0"
      ]
     },
     "execution_count": 56,
     "metadata": {},
     "output_type": "execute_result"
    }
   ],
   "source": [
    "# Your code here\n",
    "# Assign each document to the topic with the highest score in W_text_matrix\n",
    "df['nmf_topic'] = np.argmax(W_text_matrix, axis=1)\n",
    "\n",
    "# View the topic assignments\n",
    "df[['id', 'category', 'nmf_topic']].head()"
   ]
  },
  {
   "cell_type": "code",
   "execution_count": 57,
   "id": "26eb97c1",
   "metadata": {},
   "outputs": [
    {
     "name": "stdout",
     "output_type": "stream",
     "text": [
      "category   editorial  government  hobbies  news  romance\n",
      "nmf_topic                                               \n",
      "0                 20           4        0     8        0\n",
      "1                  4           0        8     0       29\n",
      "2                  2          26       26    11        0\n",
      "3                  0           0        1    17        0\n",
      "4                  1           0        1     8        0\n"
     ]
    }
   ],
   "source": [
    "# Tally the Brown categories for each NMF topic\n",
    "topic_category_tally = pd.crosstab(df['nmf_topic'], df['category'])\n",
    "\n",
    "# Display the tally\n",
    "print(topic_category_tally)"
   ]
  },
  {
   "cell_type": "markdown",
   "id": "f8d4e2bc",
   "metadata": {},
   "source": [
    "Q: How does your five-topic NMF model compare to the original Brown categories? \n",
    "\n",
    "A: The five-topic NMF model shows partial alighnment to the original Brown categories. Topic 0 is mostly \"editorial\" but also has \"news\". Topic 1 is dominated by \"romance\" and some \"hobbies\". Topic 2 combines \"government\" and \"hobbies\" with some \"news\". Topic 3 is strongly linked to \"news\". Last, Topic 4 is a mmix of severral categories with no clear alignment. So, while some topics aligned well with the original categgores, others blend multiple categories, indicating that the NMF model captures broader themes that overlap across categories. "
   ]
  },
  {
   "cell_type": "markdown",
   "id": "82e37cb5",
   "metadata": {},
   "source": [
    "## Fitting an LSA Model\n",
    "\n",
    "In this section, follow the example from the repository and fit an LSA model (called a \"TruncatedSVD\" in `sklearn`). Again fit a five-topic model and compare it to the actual categories in the Brown corpus. Use the TF-IDF vectors for your fit, as above. \n",
    "\n",
    "To be explicit, we are once again interested in the extent to which this LSA factorization agrees or disagrees with the original categories in the corpus. For each topic in your model, tally the Brown categories and interpret the results. \n"
   ]
  },
  {
   "cell_type": "code",
   "execution_count": 58,
   "id": "00b53d3d",
   "metadata": {},
   "outputs": [
    {
     "name": "stdout",
     "output_type": "stream",
     "text": [
      "category   editorial  government  hobbies  news  romance\n",
      "lsa_topic                                               \n",
      "0                 27          30       36    34       21\n",
      "1                  0           0        0     0        8\n",
      "3                  0           0        0     3        0\n",
      "4                  0           0        0     7        0\n"
     ]
    }
   ],
   "source": [
    "# Your code here\n",
    "# Fit an LSA model with 5 components\n",
    "lsa_text_model = TruncatedSVD(n_components=5, random_state=314)\n",
    "W_lsa_matrix = lsa_text_model.fit_transform(tfidf_text_vectors)\n",
    "H_lsa_matrix = lsa_text_model.components_\n",
    "\n",
    "# Assign each document to the topic with the highest score in W_lsa_matrix\n",
    "df['lsa_topic'] = np.argmax(W_lsa_matrix, axis=1)\n",
    "\n",
    "# View the LSA topic assignments for the first few documents\n",
    "df[['id', 'category', 'lsa_topic']].head()\n",
    "\n",
    "# Tally the Brown categories for each LSA topic\n",
    "lsa_topic_category_tally = pd.crosstab(df['lsa_topic'], df['category'])\n",
    "\n",
    "# Display the tally\n",
    "print(lsa_topic_category_tally)"
   ]
  },
  {
   "cell_type": "markdown",
   "id": "4d94d56f",
   "metadata": {},
   "source": [
    "Q: How does your five-topic LSA model compare to the original Brown categories? \n",
    "\n",
    "A: The five-topic LSA model shows significant overlap across multiple categories. Topic 0 covers a broad range of categories, including \"editorial,\" \"government,\" \"hobbies,\" \"news,\" and \"romance,\" indicating that it captures a mix of themes. Topic 1 focuses mostly on \"romance,\" while Topics 3 and 4 are sparse, pulling only a few documents in \"news.\" The LSA model blends content from different categorie. This indicates that it captures broader themes rather than aligning with the original Brown categories."
   ]
  },
  {
   "cell_type": "code",
   "execution_count": 59,
   "id": "377a886e",
   "metadata": {},
   "outputs": [
    {
     "name": "stdout",
     "output_type": "stream",
     "text": [
      "\n",
      "Topic 00\n",
      "  said (0.44)\n",
      "  mr (0.25)\n",
      "  mrs (0.22)\n",
      "  state (0.20)\n",
      "  man (0.17)\n",
      "\n",
      "Topic 01\n",
      "  said (3.89)\n",
      "  ll (2.73)\n",
      "  didn (2.63)\n",
      "  thought (2.20)\n",
      "  got (1.97)\n",
      "\n",
      "Topic 02\n",
      "  mrs (3.12)\n",
      "  mr (1.70)\n",
      "  said (1.06)\n",
      "  kennedy (0.82)\n",
      "  khrushchev (0.77)\n",
      "\n",
      "Topic 03\n",
      "  mrs (29.45)\n",
      "  club (6.53)\n",
      "  game (6.12)\n",
      "  jr (5.60)\n",
      "  university (5.20)\n",
      "\n",
      "Topic 04\n",
      "  game (4.54)\n",
      "  league (3.27)\n",
      "  baseball (3.22)\n",
      "  ball (3.10)\n",
      "  team (2.94)\n"
     ]
    }
   ],
   "source": [
    "# call display_topics on your model to view the top terms per topic\n",
    "display_topics(lsa_text_model, tfidf_text_vectorizer.get_feature_names_out())"
   ]
  },
  {
   "cell_type": "markdown",
   "id": "ea8b280a",
   "metadata": {},
   "source": [
    "Q: What is your interpretation of the display topics output? \n",
    "\n",
    "A: The display topics output shows the most important terms for each LSA topic, offering insights into the main themes. Topic 00 has dialogue words like \"said,\" \"mr,\" and \"mrs,\" suggesting content related to conversations or narratives. Topic 01 includes conversational terms such as \"said,\" \"didn,\" and \"thought,\" which could represnt romance (as seen in lsa model), but in general conversations. Topic 02 focuses on names like \"mrs,\" \"mr,\" and political figures like \"kennedy\" and \"khrushchev,\" which points to more political/formal content. Topic 03 is heavily skewed towards terms like \"mrs,\" \"club,\" and \"game,\" possibly indicating social or recreational themes. Last, Topic 04 is related to sports with terms like \"game,\" \"league,\" \"baseball,\" and \"team.\" Overall, the topics capture distinct but broad themes, with some overlap across categories."
   ]
  },
  {
   "cell_type": "markdown",
   "id": "b4ab4d29",
   "metadata": {},
   "source": [
    "## Fitting an LDA Model\n",
    "\n",
    "Finally, fit a five-topic LDA model using the count vectors (`count_text_vectors` from above). Display the results using `pyLDAvis.display` and describe what you learn from that visualization. "
   ]
  },
  {
   "cell_type": "code",
   "execution_count": 60,
   "id": "802cb8ff",
   "metadata": {},
   "outputs": [
    {
     "name": "stdout",
     "output_type": "stream",
     "text": [
      "     id   category  lda_topic\n",
      "0  cb01  editorial          2\n",
      "1  cb02  editorial          2\n",
      "2  cb03  editorial          2\n",
      "3  cb04  editorial          2\n",
      "4  cb05  editorial          2\n",
      "category   editorial  government  hobbies  news  romance\n",
      "lda_topic                                               \n",
      "0                  3           1       11     4       28\n",
      "1                  1          12        9     3        0\n",
      "2                 21           3        2    32        1\n",
      "3                  2           4        8     3        0\n",
      "4                  0          10        6     2        0\n"
     ]
    }
   ],
   "source": [
    "# Fit your LDA model here\n",
    "lda_model = LatentDirichletAllocation(n_components=5, random_state=314)\n",
    "lda_model.fit(count_text_vectors)\n",
    "\n",
    "# Assign each document to the topic with the highest score in the LDA model\n",
    "doc_topic_distr = lda_model.transform(count_text_vectors)\n",
    "df['lda_topic'] = np.argmax(doc_topic_distr, axis=1)\n",
    "\n",
    "# View the LDA topic assignments for the first few documents\n",
    "print(df[['id', 'category', 'lda_topic']].head())\n",
    "\n",
    "# Tally the Brown categories for each LDA topic\n",
    "lda_topic_category_tally = pd.crosstab(df['lda_topic'], df['category'])\n",
    "\n",
    "# Display the tally\n",
    "print(lda_topic_category_tally)\n"
   ]
  },
  {
   "cell_type": "code",
   "execution_count": 61,
   "id": "ab18adf5",
   "metadata": {},
   "outputs": [
    {
     "name": "stdout",
     "output_type": "stream",
     "text": [
      "Topic 0:\n",
      "said mrs little good way don ll old man thought\n",
      "Topic 1:\n",
      "state development 000 program business system sales small use 1960\n",
      "Topic 2:\n",
      "said mr president city state american john week home world\n",
      "Topic 3:\n",
      "feed college general university work president student students members schools\n",
      "Topic 4:\n",
      "states state united shall government tax fiscal department act class\n"
     ]
    }
   ],
   "source": [
    "# Call `display_topics` on your fitted model here\n",
    "# Display the top terms in each topic\n",
    "def display_topics(model, feature_names, no_top_words=10):\n",
    "    for topic_idx, topic in enumerate(model.components_):\n",
    "        print(f\"Topic {topic_idx}:\")\n",
    "        print(\" \".join([feature_names[i] for i in topic.argsort()[:-no_top_words - 1:-1]]))\n",
    "\n",
    "# Display topics\n",
    "display_topics(lda_model, count_text_vectorizer.get_feature_names_out())"
   ]
  },
  {
   "cell_type": "markdown",
   "id": "f2c67876",
   "metadata": {},
   "source": [
    "Q: What inference do you draw from the displayed topics for your LDA model? \n",
    "\n",
    "A: The LDA model shows thematic divisions. Topic 0 is narrative-driven, with conversational words like \"said\" and \"mrs,\" likely linked to fiction or personal stories. Topic 1 focuses on business and governmental terms like \"development\" and \"program,\" while Topic 2 is more political, with terms like \"president\" and \"city.\" Topic 3 highlights education with words like \"college\" and \"university,\" and Topic 4 centers around government and law with terms like \"tax\" and \"department.\" These topics reflect broad, recognizable themes.\n",
    "\n",
    "Q: Repeat the tallying of Brown categories within your topics. How does your five-topic LDA model compare to the original Brown categories? \n",
    "\n",
    "A: Topic 0 aligns closely with the \"romance\" category, capturing fiction-related content. Topic 1 is associated with \"government\" and \"hobbies,\" reflecting business and governmental discussions. Topic 2 matches well with \"editorial\" and \"news,\" focusing on political commentary. Topic 3 blends \"hobbies\" and \"education,\" suggesting academic content, while Topic 4 is linked to \"government\" documents. Overall, the LDA model aligns well with some categories but also mixes documents across multiple categories, capturing broader themes."
   ]
  },
  {
   "cell_type": "code",
   "execution_count": 62,
   "id": "6aae75ca",
   "metadata": {},
   "outputs": [],
   "source": [
    "lda_display = pyLDAvis.lda_model.prepare(lda_text_model, count_text_vectors, count_text_vectorizer, sort_topics=False)"
   ]
  },
  {
   "cell_type": "code",
   "execution_count": 63,
   "id": "2a89fc15",
   "metadata": {},
   "outputs": [
    {
     "data": {
      "text/html": [
       "\n",
       "<link rel=\"stylesheet\" type=\"text/css\" href=\"https://cdn.jsdelivr.net/gh/bmabey/pyLDAvis@3.4.0/pyLDAvis/js/ldavis.v1.0.0.css\">\n",
       "\n",
       "\n",
       "<div id=\"ldavis_el2289613272918858084833521774\" style=\"background-color:white;\"></div>\n",
       "<script type=\"text/javascript\">\n",
       "\n",
       "var ldavis_el2289613272918858084833521774_data = {\"mdsDat\": {\"x\": [-0.24352303362204109, 0.1305571939552592, -0.05665667547392709, 0.041427484839751054, 0.12819503030095813], \"y\": [0.006829720679473482, -0.05588474470164675, 0.03852366287446671, -0.11285215230955822, 0.12338351345726474], \"topics\": [1, 2, 3, 4, 5], \"cluster\": [1, 1, 1, 1, 1], \"Freq\": [22.896957296534485, 20.43196854284194, 32.00626407252673, 12.368825612932092, 12.29598447516474]}, \"tinfo\": {\"Term\": [\"states\", \"state\", \"said\", \"mrs\", \"united\", \"shall\", \"development\", \"tax\", \"feed\", \"fiscal\", \"college\", \"government\", \"ll\", \"don\", \"000\", \"university\", \"department\", \"didn\", \"sales\", \"president\", \"rhode\", \"got\", \"equipment\", \"little\", \"mother\", \"class\", \"act\", \"program\", \"system\", \"property\", \"hair\", \"baby\", \"clothes\", \"walls\", \"anne\", \"fig\", \"pale\", \"pink\", \"dry\", \"yellow\", \"entrance\", \"hadn\", \"ham\", \"couldn\", \"frames\", \"fingers\", \"flowers\", \"windows\", \"bride\", \"hell\", \"handsome\", \"coat\", \"cloth\", \"sweet\", \"stared\", \"liked\", \"colored\", \"studio\", \"bed\", \"trees\", \"shelter\", \"mother\", \"looked\", \"clay\", \"wasn\", \"guests\", \"didn\", \"woman\", \"sat\", \"pieces\", \"colors\", \"eyes\", \"drill\", \"mrs\", \"ll\", \"don\", \"thought\", \"room\", \"sun\", \"inch\", \"ve\", \"black\", \"little\", \"knew\", \"went\", \"sure\", \"got\", \"door\", \"look\", \"son\", \"know\", \"said\", \"way\", \"come\", \"came\", \"good\", \"place\", \"away\", \"old\", \"water\", \"right\", \"man\", \"let\", \"life\", \"left\", \"house\", \"day\", \"home\", \"systems\", \"marketing\", \"electronic\", \"boats\", \"missiles\", \"components\", \"aircraft\", \"machine\", \"rhode\", \"assessment\", \"shipments\", \"laboratory\", \"bankers\", \"savings\", \"yield\", \"industrial\", \"forests\", \"compared\", \"machines\", \"procurement\", \"missile\", \"conservation\", \"utility\", \"inventories\", \"polaris\", \"manufacturing\", \"machinery\", \"investment\", \"recreation\", \"banks\", \"property\", \"industry\", \"equipment\", \"sales\", \"radiation\", \"planning\", \"development\", \"medical\", \"providence\", \"billion\", \"system\", \"shares\", \"manufacturers\", \"island\", \"1960\", \"production\", \"1959\", \"products\", \"research\", \"co\", \"range\", \"000\", \"program\", \"business\", \"cost\", \"million\", \"available\", \"state\", \"small\", \"company\", \"national\", \"1961\", \"provide\", \"areas\", \"service\", \"use\", \"military\", \"tax\", \"public\", \"khrushchev\", \"player\", \"rayburn\", \"congo\", \"republican\", \"moscow\", \"southern\", \"baseball\", \"railroad\", \"castro\", \"troops\", \"yards\", \"charter\", \"yankees\", \"premier\", \"alexander\", \"democrats\", \"captain\", \"chinese\", \"coach\", \"laos\", \"gen\", \"cuban\", \"opposition\", \"soviet\", \"katanga\", \"republicans\", \"pope\", \"bombs\", \"robinson\", \"berlin\", \"speaker\", \"communist\", \"democratic\", \"eisenhower\", \"league\", \"mayor\", \"cuba\", \"st\", \"police\", \"yesterday\", \"china\", \"west\", \"monday\", \"race\", \"john\", \"east\", \"kennedy\", \"city\", \"mr\", \"meeting\", \"party\", \"president\", \"said\", \"week\", \"war\", \"political\", \"nations\", \"game\", \"committee\", \"leaders\", \"american\", \"world\", \"york\", \"home\", \"county\", \"man\", \"united\", \"people\", \"house\", \"state\", \"day\", \"old\", \"000\", \"government\", \"men\", \"national\", \"states\", \"school\", \"academic\", \"faculty\", \"trustees\", \"campus\", \"recognition\", \"classical\", \"professors\", \"mathematics\", \"musical\", \"tends\", \"feed\", \"stockholders\", \"fulfill\", \"meat\", \"unions\", \"chemical\", \"motors\", \"prosperity\", \"cattle\", \"prestige\", \"designer\", \"curriculum\", \"clerical\", \"catholic\", \"collective\", \"recorded\", \"appearances\", \"creative\", \"membership\", \"trust\", \"music\", \"chamber\", \"students\", \"student\", \"colleges\", \"teachers\", \"college\", \"engineer\", \"interior\", \"university\", \"daily\", \"pool\", \"schools\", \"education\", \"art\", \"general\", \"anti\", \"members\", \"technical\", \"labor\", \"design\", \"administration\", \"level\", \"work\", \"school\", \"president\", \"problem\", \"board\", \"department\", \"american\", \"good\", \"men\", \"aid\", \"world\", \"high\", \"cousin\", \"rehabilitation\", \"coal\", \"vocational\", \"definition\", \"denied\", \"thereof\", \"bonds\", \"payment\", \"rico\", \"puerto\", \"coordination\", \"filing\", \"adopting\", \"recommendation\", \"calendar\", \"hated\", \"proceedings\", \"commodities\", \"sectors\", \"connections\", \"62\", \"vehicles\", \"allocation\", \"treasury\", \"tractor\", \"adjustments\", \"upstairs\", \"shall\", \"assigned\", \"india\", \"exercise\", \"interference\", \"payments\", \"fiscal\", \"authorized\", \"claim\", \"stations\", \"insurance\", \"claims\", \"class\", \"states\", \"income\", \"return\", \"tax\", \"united\", \"junior\", \"hearing\", \"act\", \"countries\", \"cars\", \"state\", \"agreement\", \"department\", \"government\", \"secretary\", \"officer\", \"section\", \"title\", \"federal\", \"use\", \"service\", \"30\", \"board\", \"services\", \"pay\", \"local\", \"day\"], \"Freq\": [328.0, 485.0, 803.0, 307.0, 298.0, 123.0, 199.0, 172.0, 93.0, 107.0, 120.0, 273.0, 167.0, 178.0, 282.0, 122.0, 153.0, 124.0, 117.0, 297.0, 86.0, 147.0, 105.0, 237.0, 97.0, 97.0, 127.0, 230.0, 142.0, 95.0, 35.2660316976795, 35.25985457287086, 32.3428239171505, 32.338808089183956, 34.23407300433103, 31.327619231629434, 26.498517625454497, 25.52477104102502, 23.573236778164123, 25.427138253320578, 21.61942811514906, 30.99304467895145, 19.675700186736577, 51.43981707238506, 20.58973330557002, 17.726312752092984, 23.305040810822852, 16.751973310918498, 17.677966184967975, 15.781789493525487, 15.780666162782104, 15.765038139000257, 14.807347406646535, 14.80685767925679, 14.806525243898381, 14.805562659021431, 15.721341674975069, 14.793031300690538, 34.14874849426122, 27.742455010304496, 57.20416985925254, 90.05985801714502, 78.93387784968846, 75.71076669182487, 53.90723878296296, 29.98283937143006, 108.7307394199305, 50.25085074519481, 34.93419186644635, 48.29752376267051, 27.141746207592906, 83.99183249657631, 31.328311483268102, 234.33243224195496, 134.73682388828428, 142.22532063651977, 113.48998687104918, 84.70739288661427, 47.8510731735934, 58.281643606515395, 69.8220957267823, 54.44733492420302, 159.9387345606824, 71.32903793545292, 100.47914727932275, 70.80739412891522, 101.54763550743192, 56.56434544201605, 89.14937958191945, 57.94278765631474, 112.80221967394901, 300.1915799527, 143.08214720581637, 108.66785528409203, 97.93192846288167, 146.72016490751102, 107.6369595930096, 81.83857826579658, 125.33252753577952, 93.65427756652964, 105.80662989454598, 122.4339267375069, 76.3788274785795, 81.85609009063346, 81.25833894745264, 87.71132897871948, 85.9510991697218, 84.11085690371257, 37.620339176968784, 41.260430437148194, 26.108504126894083, 38.014900667186495, 22.240995977940422, 21.223514374686545, 54.2484835922527, 50.394700061919124, 82.33814930496474, 17.226327234067025, 13.599502717078906, 16.290888590985368, 10.740632157231781, 17.005387252552158, 15.133342494227296, 72.03843499106002, 14.93822306027245, 24.574363297208, 28.908173871233405, 17.448867762039566, 36.58474259793834, 7.854789008100239, 11.322258118599953, 6.910963131905759, 6.906977941612573, 18.16721140781806, 30.17941537930658, 24.918058009903824, 32.62393120086373, 16.267831354180668, 85.0440953161139, 85.23076408361716, 92.04061867537717, 102.2103074033813, 31.4199418622582, 72.29354736159654, 160.58456695669395, 84.12221117794076, 39.27101304252784, 47.15352590830228, 110.99031567699537, 32.52656888050941, 35.56961213374265, 88.51387155669536, 93.20958887097949, 63.84974612826238, 50.27196273949975, 49.696057546593295, 72.6346942154112, 46.82621040883047, 53.9849678768908, 144.62866634727465, 123.50896845655399, 113.19861054790842, 73.61038906890722, 79.16133829903188, 74.66204969189886, 169.46520342296503, 100.42960965644966, 76.12853270707267, 92.20105914345282, 67.16061893470149, 66.50125650021205, 62.63129522802759, 86.66947068148058, 95.4163128039831, 65.25389352558312, 67.84173831149553, 65.61364145319472, 73.4255437478312, 48.677684982965914, 46.706427838363226, 43.73337493489185, 39.77817876808442, 37.8001074783943, 34.82722841019421, 39.618770244774986, 32.84180904847267, 29.881397928372543, 26.91281765701294, 26.89959101139295, 27.86029549757159, 25.925615833025606, 24.935202646112835, 24.927860722599316, 23.94619677327182, 23.93872466553852, 22.94971042948155, 22.940661109611227, 49.614781943724076, 21.955319680146957, 20.97470862289915, 20.95696065584774, 78.92743956978474, 19.98234147220936, 19.972841684788566, 19.96743951892553, 18.99653596416775, 18.99455107756807, 63.224259726459145, 40.660686563695094, 70.96278176057112, 59.00465760184119, 38.64663320997922, 57.991204762006724, 43.21771150153889, 36.746255661940765, 71.47530467432694, 44.37915026504149, 58.02965358273135, 32.82823725515491, 96.08418538831428, 58.46515417030852, 40.505659296092986, 142.98368478351767, 83.85420121427464, 111.14875577393443, 172.62353200026388, 287.8781423603006, 84.13213702614404, 92.01772270153525, 205.4063487373472, 470.89022085822603, 140.76265143255984, 113.01139950261567, 71.05038233619986, 67.16518889885607, 73.87620209973862, 83.76171945290716, 50.0024671406363, 148.6461501680535, 138.13586962558048, 96.83009236355002, 140.02404620727492, 76.83350051553273, 129.5803754748476, 125.62152536157599, 118.3621020472274, 110.56501449328141, 148.8451794619114, 119.60071243642449, 108.76991140081167, 105.30536803757617, 99.5216494770638, 90.46561781119024, 91.57849254494289, 96.15786407278632, 83.84436994950731, 27.814826569302795, 48.936847090043756, 18.50350998538599, 14.879468477087578, 15.47394115216424, 9.37335260705388, 8.42986417373587, 7.546272419664461, 18.414920463159163, 7.518959799427086, 84.44155436104491, 18.268486568333234, 6.62212828905927, 19.541713824662597, 18.58713025433587, 23.14611199920266, 38.25197181315957, 4.773288678682479, 17.381566736920465, 10.23881677383224, 14.802706325018901, 7.01167674166155, 4.663272913791557, 25.47959588243606, 10.014582060857444, 7.582398158918738, 4.540015041329009, 12.853649254073664, 19.425628383036667, 29.706978723475093, 46.82501087835097, 21.450400541392497, 52.99436840195936, 54.95528137360954, 16.311008295186426, 25.62073069822369, 83.62014229714063, 24.94167590234587, 28.63345949233647, 67.01241734256296, 33.33126174190002, 43.62737654411705, 49.32037920830901, 46.418285704159366, 34.85619603196496, 67.66899625922099, 32.10381351159181, 51.62302814445633, 31.177936996002924, 33.895493042174905, 35.04082063901767, 44.493279558926226, 35.22883442674154, 56.48861252778308, 47.16711951156557, 55.68778966133637, 39.64150536052231, 42.715660545387536, 38.0148240476834, 43.015109783672834, 42.90256178570285, 38.25715440917921, 34.068781601685856, 37.62879650451433, 34.84607073269733, 24.895381739117987, 17.608710471055964, 22.617152720693475, 12.988354717680908, 12.081651178952196, 17.255761258059316, 11.04391666973254, 28.50439130794211, 36.75187172723355, 17.29261904159074, 17.289973715259777, 6.586201822372043, 15.531276371536125, 5.6697498607222006, 16.069958421934746, 20.12573678235822, 5.626627615289123, 6.416436823858561, 14.343171489794248, 4.761534756745249, 5.547238482984894, 5.532508833757224, 35.56950814402394, 10.22353039247614, 22.866566967658468, 19.49937341173721, 10.91357282723519, 5.430408333634511, 101.16733937850317, 9.141628146127083, 29.60437781154302, 21.945570724591914, 28.49445862632922, 31.902747941397042, 82.24350507900941, 23.61999226739108, 32.82368814475597, 43.57399739685014, 25.757310222259708, 22.213358197218533, 63.525155444168014, 175.30239292056635, 50.0398626862446, 41.16101243435983, 86.65875331991657, 128.3923792638739, 39.9103417174385, 33.815786827704535, 65.01077528351223, 47.42060534620192, 40.20927959281277, 156.29426259716706, 38.83917469224586, 66.04762002987059, 93.49618556474572, 54.839090750251266, 32.98378789632124, 41.66456800174173, 29.989970407909507, 43.233051375567904, 57.37752089386079, 52.70114914664629, 42.224181185310066, 42.52715360132949, 36.82910800278595, 37.09681062937546, 36.74442128741945, 37.17615767602694], \"Total\": [328.0, 485.0, 803.0, 307.0, 298.0, 123.0, 199.0, 172.0, 93.0, 107.0, 120.0, 273.0, 167.0, 178.0, 282.0, 122.0, 153.0, 124.0, 117.0, 297.0, 86.0, 147.0, 105.0, 237.0, 97.0, 97.0, 127.0, 230.0, 142.0, 95.0, 36.02603912499985, 36.025888838190355, 33.10322172299765, 33.10319945151621, 35.050562559486124, 32.128537874832716, 27.257595896582224, 26.283381057698207, 24.33472332364593, 26.28457560730937, 22.38617131270356, 32.13491772930471, 20.43764235373043, 53.485417657861355, 21.413009212119377, 18.4889776978158, 24.319878358135636, 17.514841028502047, 18.48997788651864, 16.540707205667314, 16.540683839194852, 16.54015211825249, 15.566432075823174, 15.566368553159581, 15.56643938589409, 15.56640853615906, 16.541123102771515, 15.566128130021557, 35.96189057796926, 29.216873363902355, 60.42030248595256, 97.50813665440423, 85.71452146351683, 82.76557482881312, 58.488069645836035, 32.15043643449322, 124.77305109139077, 55.49593407027592, 37.89639184076529, 53.44875378566884, 29.18685535443566, 98.42108266493298, 34.10865925517125, 307.99715835781404, 167.83422712513698, 178.18542278378123, 139.82171036116085, 103.42674442190592, 54.56223811623199, 68.76954856434935, 84.8364716004104, 64.26201397041542, 237.75277971425638, 90.5197363342037, 137.70593095628732, 91.7744400912997, 147.79376856176162, 70.06214294099414, 129.86657516906672, 73.99592681862174, 191.48072080434142, 803.8548070648292, 274.85427260577245, 186.07372334983486, 163.15899799670467, 306.4340359076893, 190.15544412730654, 123.89985251249686, 254.8494682894125, 162.71698521260242, 213.57338284403212, 283.01536045192023, 121.95636925526733, 161.530177161579, 163.20991301290175, 234.12184367687405, 302.3464743334503, 268.5137641979602, 38.38900181276883, 42.21975114655717, 26.870239511488478, 39.32530511253748, 23.031355908186356, 22.06902387883875, 56.67664066614095, 52.835411858251334, 86.46800449904788, 18.221477632163282, 14.390064081926619, 17.262361508112328, 11.511442662430962, 18.23745719845576, 16.29290344655114, 78.4676012790537, 16.284197226960227, 26.80226895725759, 31.645263380810658, 19.147274411366578, 40.18955772227331, 8.631750433563736, 12.458169098970652, 7.671836647717207, 7.671950307157879, 20.18844642310027, 33.58228715547515, 27.75816573167879, 36.44648449277573, 18.179838892874393, 95.59958109020084, 96.93212392160395, 105.65758026062849, 117.78573708942233, 35.559443489422506, 85.01192732215921, 199.001136839331, 101.02292341395632, 45.14381488359435, 54.90118963074975, 142.66262791524014, 37.27576952579078, 41.990975863697216, 120.33277045687888, 129.7781845158142, 84.83256378608144, 63.72708403807199, 62.84418723668016, 102.98876739202463, 59.708950181379954, 72.90815716855997, 282.94427412443616, 230.321572697867, 209.32374748162178, 115.94033775080983, 128.99304695412948, 119.71572579817433, 485.5254739281201, 211.37539248235058, 138.53740854960478, 215.73422314818575, 114.91801537520551, 112.93575546782296, 99.90679935398619, 203.5790903421852, 253.44869724604683, 123.3053988685712, 172.80964183116583, 200.80538207395296, 74.18132611605122, 49.441690528266896, 47.4626011992394, 44.493590360104925, 40.53551399617133, 38.556389850764745, 35.587527828435455, 40.524089011304014, 33.607869995103435, 30.639652232810214, 27.670894341231296, 27.670809878218424, 28.659135933770294, 26.681481371686942, 25.69180620359062, 25.691678325478673, 24.70228207475655, 24.70215427298778, 23.712487033002027, 23.711939322752947, 51.34436129166906, 22.722416271833225, 21.73341108202847, 21.732251919217518, 81.93116365784128, 20.74359979320196, 20.74291137765738, 20.743329613458638, 19.75425783489285, 19.754312772549568, 66.10674015267458, 42.43698376216299, 74.99667222533022, 62.13038324129459, 40.452779241734, 61.207324272859374, 45.379272772809266, 38.47958552212627, 78.03996648950972, 47.297256235347305, 63.02723087036461, 34.52865293710649, 108.34119862739145, 64.00922906655558, 43.34070314169638, 171.40817645781516, 96.50766365165023, 132.04188079153838, 217.9054891778164, 392.8566393536833, 99.3819134748066, 110.4119071013218, 297.0893859119427, 803.8548070648292, 190.95279899715098, 148.12895827305633, 84.33186741272111, 80.65436811910885, 91.54281280787262, 111.05863796939234, 55.265203097107076, 262.87614880789016, 256.08998245885516, 148.46972078147328, 268.5137641979602, 105.84498183835264, 283.01536045192023, 298.7240339741693, 265.6177234105346, 234.12184367687405, 485.5254739281201, 302.3464743334503, 254.8494682894125, 282.94427412443616, 273.10491963972146, 193.49518722056044, 215.73422314818575, 328.087663003433, 171.6826664515604, 28.587671191002904, 50.7523510400547, 19.380805810594005, 15.693304333758904, 16.633414863075224, 10.165631588135195, 9.245712123820633, 8.32222688895906, 20.348539793129646, 8.322341294361465, 93.52912134200908, 20.350673528278296, 7.401195317063843, 22.20297288052514, 21.2635569982726, 26.86417661430779, 44.466850734734685, 5.559156794388778, 20.429848324794335, 12.080566726948911, 17.616166085442227, 8.344571664079329, 5.563614525856899, 30.740062340111137, 12.097121988775976, 9.309062259927517, 5.575810965371217, 15.790102910241028, 24.236359627179475, 37.14065807513558, 59.64261324812851, 27.08108297787437, 68.97438698866307, 71.68275492289166, 20.467141713564452, 33.347601350252496, 120.99975166695651, 32.580289308120754, 39.8960805195749, 122.31078776847798, 52.49852760150619, 75.23212830270086, 89.45812584148689, 84.56146294600379, 57.49325835273576, 198.0062127777887, 57.7972064020334, 140.21994582812468, 57.24356765830154, 68.34216300022534, 74.72871037779431, 131.40907157119443, 82.9849645023584, 256.97786239275587, 171.6826664515604, 297.0893859119427, 117.36282478725465, 173.02514764709485, 153.03062002567168, 262.87614880789016, 306.4340359076893, 193.49518722056044, 99.64739691842243, 256.08998245885516, 217.96093203160197, 25.719900356958174, 18.37920616005882, 23.884995096222234, 13.795801363596603, 12.877393873437716, 18.395872134442175, 11.965555537317135, 31.301788527830137, 40.52555344944824, 19.305747619464796, 19.305381735642005, 7.373665018594359, 17.516110794478678, 6.456504867903877, 18.38654313683201, 23.075914689335168, 6.459370956327422, 7.3740579154694075, 16.593451639249775, 5.5388189951715825, 6.462219526241369, 6.457204216744055, 41.582448440815824, 11.963052970316348, 26.87025406073885, 23.09135146214563, 12.931560935207878, 6.471692815484696, 123.04949327573001, 11.129093826135755, 36.08726596770424, 26.77461259555286, 35.19197255344377, 39.79154818535335, 107.5155592847497, 29.57370429691562, 42.54665994150676, 57.80855935459402, 33.291642037189256, 28.658975142612636, 97.16968285832587, 328.087663003433, 79.9428522674794, 64.56516799991917, 172.80964183116583, 298.7240339741693, 62.790765491912765, 50.55168073966499, 127.86759220361681, 82.87435176840481, 65.84647973719719, 485.5254739281201, 64.87874739797846, 153.03062002567168, 273.10491963972146, 119.84296064796652, 52.25627453052503, 81.49566812100727, 44.58064300425611, 112.63804601931187, 253.44869724604683, 203.5790903421852, 114.38793137157597, 173.02514764709485, 93.38657624530418, 103.89058589990503, 128.42114372832103, 302.3464743334503], \"Category\": [\"Default\", \"Default\", \"Default\", \"Default\", \"Default\", \"Default\", \"Default\", \"Default\", \"Default\", \"Default\", \"Default\", \"Default\", \"Default\", \"Default\", \"Default\", \"Default\", \"Default\", \"Default\", \"Default\", \"Default\", \"Default\", \"Default\", \"Default\", \"Default\", \"Default\", \"Default\", \"Default\", \"Default\", \"Default\", \"Default\", \"Topic1\", \"Topic1\", \"Topic1\", \"Topic1\", \"Topic1\", \"Topic1\", \"Topic1\", \"Topic1\", \"Topic1\", \"Topic1\", \"Topic1\", \"Topic1\", \"Topic1\", \"Topic1\", \"Topic1\", \"Topic1\", \"Topic1\", \"Topic1\", \"Topic1\", \"Topic1\", \"Topic1\", \"Topic1\", \"Topic1\", \"Topic1\", \"Topic1\", \"Topic1\", \"Topic1\", \"Topic1\", \"Topic1\", \"Topic1\", \"Topic1\", \"Topic1\", \"Topic1\", \"Topic1\", \"Topic1\", \"Topic1\", \"Topic1\", \"Topic1\", \"Topic1\", \"Topic1\", \"Topic1\", \"Topic1\", \"Topic1\", \"Topic1\", \"Topic1\", \"Topic1\", \"Topic1\", \"Topic1\", \"Topic1\", \"Topic1\", \"Topic1\", \"Topic1\", \"Topic1\", \"Topic1\", \"Topic1\", \"Topic1\", \"Topic1\", \"Topic1\", \"Topic1\", \"Topic1\", \"Topic1\", \"Topic1\", \"Topic1\", \"Topic1\", \"Topic1\", \"Topic1\", \"Topic1\", \"Topic1\", \"Topic1\", \"Topic1\", \"Topic1\", \"Topic1\", \"Topic1\", \"Topic1\", \"Topic1\", \"Topic1\", \"Topic1\", \"Topic1\", \"Topic2\", \"Topic2\", \"Topic2\", \"Topic2\", \"Topic2\", \"Topic2\", \"Topic2\", \"Topic2\", \"Topic2\", \"Topic2\", \"Topic2\", \"Topic2\", \"Topic2\", \"Topic2\", \"Topic2\", \"Topic2\", \"Topic2\", \"Topic2\", \"Topic2\", \"Topic2\", \"Topic2\", \"Topic2\", \"Topic2\", \"Topic2\", \"Topic2\", \"Topic2\", \"Topic2\", \"Topic2\", \"Topic2\", \"Topic2\", \"Topic2\", \"Topic2\", \"Topic2\", \"Topic2\", \"Topic2\", \"Topic2\", \"Topic2\", \"Topic2\", \"Topic2\", \"Topic2\", \"Topic2\", \"Topic2\", \"Topic2\", \"Topic2\", \"Topic2\", \"Topic2\", \"Topic2\", \"Topic2\", \"Topic2\", \"Topic2\", \"Topic2\", \"Topic2\", \"Topic2\", \"Topic2\", \"Topic2\", \"Topic2\", \"Topic2\", \"Topic2\", \"Topic2\", \"Topic2\", \"Topic2\", \"Topic2\", \"Topic2\", \"Topic2\", \"Topic2\", \"Topic2\", \"Topic2\", \"Topic2\", \"Topic2\", \"Topic3\", \"Topic3\", \"Topic3\", \"Topic3\", \"Topic3\", \"Topic3\", \"Topic3\", \"Topic3\", \"Topic3\", \"Topic3\", \"Topic3\", \"Topic3\", \"Topic3\", \"Topic3\", \"Topic3\", \"Topic3\", \"Topic3\", \"Topic3\", \"Topic3\", \"Topic3\", \"Topic3\", \"Topic3\", \"Topic3\", \"Topic3\", \"Topic3\", \"Topic3\", \"Topic3\", \"Topic3\", \"Topic3\", \"Topic3\", \"Topic3\", \"Topic3\", \"Topic3\", \"Topic3\", \"Topic3\", \"Topic3\", \"Topic3\", \"Topic3\", \"Topic3\", \"Topic3\", \"Topic3\", \"Topic3\", \"Topic3\", \"Topic3\", \"Topic3\", \"Topic3\", \"Topic3\", \"Topic3\", \"Topic3\", \"Topic3\", \"Topic3\", \"Topic3\", \"Topic3\", \"Topic3\", \"Topic3\", \"Topic3\", \"Topic3\", \"Topic3\", \"Topic3\", \"Topic3\", \"Topic3\", \"Topic3\", \"Topic3\", \"Topic3\", \"Topic3\", \"Topic3\", \"Topic3\", \"Topic3\", \"Topic3\", \"Topic3\", \"Topic3\", \"Topic3\", \"Topic3\", \"Topic3\", \"Topic3\", \"Topic3\", \"Topic3\", \"Topic3\", \"Topic3\", \"Topic4\", \"Topic4\", \"Topic4\", \"Topic4\", \"Topic4\", \"Topic4\", \"Topic4\", \"Topic4\", \"Topic4\", \"Topic4\", \"Topic4\", \"Topic4\", \"Topic4\", \"Topic4\", \"Topic4\", \"Topic4\", \"Topic4\", \"Topic4\", \"Topic4\", \"Topic4\", \"Topic4\", \"Topic4\", \"Topic4\", \"Topic4\", \"Topic4\", \"Topic4\", \"Topic4\", \"Topic4\", \"Topic4\", \"Topic4\", \"Topic4\", \"Topic4\", \"Topic4\", \"Topic4\", \"Topic4\", \"Topic4\", \"Topic4\", \"Topic4\", \"Topic4\", \"Topic4\", \"Topic4\", \"Topic4\", \"Topic4\", \"Topic4\", \"Topic4\", \"Topic4\", \"Topic4\", \"Topic4\", \"Topic4\", \"Topic4\", \"Topic4\", \"Topic4\", \"Topic4\", \"Topic4\", \"Topic4\", \"Topic4\", \"Topic4\", \"Topic4\", \"Topic4\", \"Topic4\", \"Topic4\", \"Topic4\", \"Topic4\", \"Topic4\", \"Topic4\", \"Topic5\", \"Topic5\", \"Topic5\", \"Topic5\", \"Topic5\", \"Topic5\", \"Topic5\", \"Topic5\", \"Topic5\", \"Topic5\", \"Topic5\", \"Topic5\", \"Topic5\", \"Topic5\", \"Topic5\", \"Topic5\", \"Topic5\", \"Topic5\", \"Topic5\", \"Topic5\", \"Topic5\", \"Topic5\", \"Topic5\", \"Topic5\", \"Topic5\", \"Topic5\", \"Topic5\", \"Topic5\", \"Topic5\", \"Topic5\", \"Topic5\", \"Topic5\", \"Topic5\", \"Topic5\", \"Topic5\", \"Topic5\", \"Topic5\", \"Topic5\", \"Topic5\", \"Topic5\", \"Topic5\", \"Topic5\", \"Topic5\", \"Topic5\", \"Topic5\", \"Topic5\", \"Topic5\", \"Topic5\", \"Topic5\", \"Topic5\", \"Topic5\", \"Topic5\", \"Topic5\", \"Topic5\", \"Topic5\", \"Topic5\", \"Topic5\", \"Topic5\", \"Topic5\", \"Topic5\", \"Topic5\", \"Topic5\", \"Topic5\", \"Topic5\", \"Topic5\", \"Topic5\", \"Topic5\", \"Topic5\"], \"logprob\": [30.0, 29.0, 28.0, 27.0, 26.0, 25.0, 24.0, 23.0, 22.0, 21.0, 20.0, 19.0, 18.0, 17.0, 16.0, 15.0, 14.0, 13.0, 12.0, 11.0, 10.0, 9.0, 8.0, 7.0, 6.0, 5.0, 4.0, 3.0, 2.0, 1.0, -6.6963, -6.6965, -6.7828, -6.7829, -6.726, -6.8147, -6.9821, -7.0195, -7.0991, -7.0234, -7.1856, -6.8254, -7.2798, -6.3188, -7.2344, -7.3841, -7.1105, -7.4407, -7.3869, -7.5003, -7.5004, -7.5014, -7.5641, -7.5641, -7.5641, -7.5642, -7.5042, -7.565, -6.7285, -6.9362, -6.2126, -5.7587, -5.8906, -5.9323, -6.2719, -6.8586, -5.5703, -6.3422, -6.7057, -6.3818, -6.9581, -5.8285, -6.8147, -4.8025, -5.3559, -5.3018, -5.5275, -5.82, -6.3911, -6.1939, -6.0132, -6.262, -5.1844, -5.9919, -5.6492, -5.9992, -5.6387, -6.2238, -5.7689, -6.1997, -5.5336, -4.5548, -5.2958, -5.5709, -5.6749, -5.2707, -5.5804, -5.8544, -5.4282, -5.7196, -5.5976, -5.4516, -5.9235, -5.8542, -5.8616, -5.7851, -5.8054, -5.8271, -6.5177, -6.4254, -6.883, -6.5073, -7.0434, -7.0902, -6.1517, -6.2254, -5.7345, -7.2989, -7.5353, -7.3547, -7.7713, -7.3118, -7.4284, -5.8681, -7.4414, -6.9436, -6.7812, -7.286, -6.5457, -8.0842, -7.7185, -8.2122, -8.2128, -7.2457, -6.7381, -6.9297, -6.6602, -7.3561, -5.7021, -5.6999, -5.6231, -5.5183, -6.6978, -5.8646, -5.0665, -5.713, -6.4748, -6.2919, -5.4358, -6.6632, -6.5738, -5.6621, -5.6104, -5.9888, -6.2278, -6.2394, -5.8598, -6.2988, -6.1566, -5.1711, -5.329, -5.4161, -5.8465, -5.7738, -5.8323, -5.0126, -5.5358, -5.8129, -5.6213, -5.9382, -5.9481, -6.008, -5.6832, -5.587, -5.967, -5.9281, -5.9615, -6.2979, -6.7089, -6.7502, -6.816, -6.9108, -6.9618, -7.0437, -6.9148, -7.1024, -7.1969, -7.3015, -7.302, -7.2669, -7.3389, -7.3778, -7.3781, -7.4183, -7.4186, -7.4608, -7.4612, -6.6898, -7.5051, -7.5508, -7.5517, -6.2256, -7.5993, -7.5997, -7.6, -7.6499, -7.65, -6.4474, -6.8889, -6.332, -6.5165, -6.9397, -6.5338, -6.8279, -6.9901, -6.3248, -6.8014, -6.5332, -7.1028, -6.0289, -6.5257, -6.8927, -5.6314, -6.165, -5.8833, -5.443, -4.9316, -6.1617, -6.0721, -5.2691, -4.4395, -5.647, -5.8666, -6.3307, -6.387, -6.2917, -6.1661, -6.6821, -5.5926, -5.6659, -6.0212, -5.6523, -6.2525, -5.7298, -5.7608, -5.8204, -5.8885, -5.5912, -5.81, -5.9049, -5.9373, -5.9937, -6.0892, -6.0769, -6.0281, -6.1652, -6.3178, -5.7528, -6.7254, -6.9434, -6.9042, -7.4055, -7.5116, -7.6223, -6.7302, -7.6259, -5.2073, -6.7382, -7.753, -6.6708, -6.7209, -6.5015, -5.9992, -8.0803, -6.788, -7.3172, -6.9486, -7.6958, -8.1037, -6.4055, -7.3393, -7.6175, -8.1304, -7.0897, -6.6768, -6.252, -5.797, -6.5776, -5.6732, -5.6369, -6.8515, -6.4, -5.2171, -6.4268, -6.2888, -5.4385, -6.1369, -5.8677, -5.745, -5.8057, -6.0921, -5.4287, -6.1744, -5.6994, -6.2037, -6.1201, -6.0869, -5.848, -6.0815, -5.6093, -5.7897, -5.6236, -5.9635, -5.8888, -6.0054, -5.8818, -5.8844, -5.999, -6.115, -6.0156, -6.0924, -6.4228, -6.7691, -6.5188, -7.0734, -7.1458, -6.7893, -7.2356, -6.2874, -6.0333, -6.7872, -6.7873, -7.7525, -6.8946, -7.9023, -6.8605, -6.6355, -7.91, -7.7786, -6.9742, -8.0769, -7.9242, -7.9268, -6.066, -7.3128, -6.5078, -6.6671, -7.2475, -7.9454, -5.0207, -7.4246, -6.2495, -6.5489, -6.2878, -6.1748, -5.2278, -6.4754, -6.1463, -5.863, -6.3887, -6.5368, -5.486, -4.471, -5.7246, -5.92, -5.1755, -4.7824, -5.9508, -6.1165, -5.4629, -5.7784, -5.9434, -4.5857, -5.978, -5.4471, -5.0995, -5.6331, -6.1414, -5.9078, -6.2366, -5.8709, -5.5878, -5.6728, -5.8945, -5.8873, -6.0312, -6.0239, -6.0335, -6.0218], \"loglift\": [30.0, 29.0, 28.0, 27.0, 26.0, 25.0, 24.0, 23.0, 22.0, 21.0, 20.0, 19.0, 18.0, 17.0, 16.0, 15.0, 14.0, 13.0, 12.0, 11.0, 10.0, 9.0, 8.0, 7.0, 6.0, 5.0, 4.0, 3.0, 2.0, 1.0, 1.4528, 1.4527, 1.4509, 1.4508, 1.4506, 1.4489, 1.4459, 1.4449, 1.4424, 1.441, 1.4393, 1.438, 1.4362, 1.4352, 1.435, 1.432, 1.4315, 1.4296, 1.4293, 1.4272, 1.4271, 1.4262, 1.4242, 1.4241, 1.4241, 1.4241, 1.4233, 1.4232, 1.4224, 1.4224, 1.4195, 1.3947, 1.3918, 1.3851, 1.3926, 1.4044, 1.3365, 1.3749, 1.3928, 1.3728, 1.4015, 1.3156, 1.3891, 1.2008, 1.2545, 1.2488, 1.2655, 1.2745, 1.3429, 1.3087, 1.2794, 1.3084, 1.0777, 1.2359, 1.159, 1.2148, 1.0989, 1.2602, 1.098, 1.2296, 0.945, 0.4892, 0.8213, 0.9363, 0.9637, 0.7377, 0.9051, 1.0594, 0.7645, 0.9218, 0.7718, 0.6362, 1.0062, 0.7944, 0.7768, 0.4924, 0.2164, 0.3134, 1.5678, 1.5651, 1.5593, 1.5542, 1.5532, 1.549, 1.5443, 1.5408, 1.5391, 1.5319, 1.5316, 1.5301, 1.5188, 1.5181, 1.5142, 1.5026, 1.5018, 1.5013, 1.4976, 1.4952, 1.4941, 1.4937, 1.4925, 1.4836, 1.483, 1.4826, 1.4812, 1.4801, 1.4773, 1.4769, 1.4711, 1.4594, 1.4501, 1.4462, 1.4643, 1.426, 1.3736, 1.405, 1.4487, 1.4359, 1.337, 1.4518, 1.4221, 1.281, 1.2571, 1.3039, 1.3509, 1.3533, 1.2389, 1.345, 1.2876, 0.917, 0.9649, 0.9733, 1.1338, 1.0998, 1.1159, 0.5355, 0.8439, 0.9894, 0.738, 1.0509, 1.0585, 1.1211, 0.7341, 0.6112, 0.9517, 0.6531, 0.4695, 1.129, 1.1237, 1.1232, 1.122, 1.1204, 1.1194, 1.1176, 1.1166, 1.1162, 1.1142, 1.1115, 1.111, 1.111, 1.1105, 1.1093, 1.1091, 1.1082, 1.1078, 1.1065, 1.1062, 1.105, 1.1049, 1.1037, 1.1029, 1.1019, 1.1018, 1.1014, 1.1011, 1.1001, 1.1, 1.0947, 1.0965, 1.084, 1.0876, 1.0936, 1.0853, 1.0904, 1.0931, 1.0514, 1.0756, 1.0566, 1.0887, 1.0192, 1.0486, 1.0716, 0.9579, 0.9987, 0.967, 0.9063, 0.8283, 0.9727, 0.957, 0.7702, 0.6044, 0.8343, 0.8686, 0.9679, 0.9562, 0.9248, 0.8572, 1.0392, 0.5691, 0.5219, 0.7118, 0.4882, 0.8189, 0.358, 0.273, 0.3309, 0.389, -0.0431, 0.2118, 0.2878, 0.1509, 0.1298, 0.379, 0.2824, -0.0881, 0.4226, 2.0626, 2.0536, 2.0437, 2.0367, 2.0177, 2.0088, 1.9976, 1.9921, 1.9901, 1.9885, 1.9878, 1.9821, 1.9788, 1.9623, 1.9555, 1.941, 1.9394, 1.9376, 1.9284, 1.9246, 1.916, 1.916, 1.9135, 1.9023, 1.9011, 1.8848, 1.8845, 1.8842, 1.8687, 1.8667, 1.848, 1.8569, 1.8264, 1.8243, 1.863, 1.8264, 1.7205, 1.8228, 1.7583, 1.4883, 1.6357, 1.5451, 1.4946, 1.4902, 1.5896, 1.0163, 1.502, 1.0907, 1.4824, 1.3887, 1.3326, 1.007, 1.2332, 0.575, 0.798, 0.4157, 1.0046, 0.6911, 0.6973, 0.2799, 0.1239, 0.4691, 1.0167, 0.1722, 0.2566, 2.0633, 2.0531, 2.0414, 2.0356, 2.0321, 2.0319, 2.0157, 2.0023, 1.9982, 1.9858, 1.9856, 1.983, 1.9756, 1.966, 1.9612, 1.9591, 1.9579, 1.9568, 1.9502, 1.9447, 1.9432, 1.9413, 1.9397, 1.9388, 1.9346, 1.9268, 1.9262, 1.9205, 1.9001, 1.8992, 1.8979, 1.897, 1.8848, 1.8749, 1.8279, 1.8711, 1.8364, 1.8132, 1.8393, 1.8411, 1.6709, 1.4691, 1.6274, 1.6457, 1.4057, 1.2515, 1.6427, 1.6938, 1.4195, 1.5376, 1.6027, 0.9624, 1.5828, 1.2556, 1.024, 1.3141, 1.6358, 1.425, 1.6995, 1.1383, 0.6104, 0.7445, 1.0993, 0.6926, 1.1654, 1.0661, 0.8446, -0.0]}, \"token.table\": {\"Topic\": [1, 2, 3, 4, 5, 2, 3, 2, 3, 5, 1, 2, 3, 4, 5, 1, 2, 3, 4, 5, 5, 4, 1, 2, 3, 4, 5, 2, 5, 2, 3, 4, 5, 5, 2, 3, 5, 1, 2, 3, 4, 5, 2, 3, 3, 4, 5, 1, 2, 3, 4, 5, 1, 3, 4, 5, 4, 1, 2, 3, 4, 5, 1, 2, 3, 4, 2, 3, 5, 2, 4, 5, 1, 2, 4, 5, 1, 3, 4, 5, 1, 2, 2, 5, 3, 1, 5, 3, 4, 2, 3, 1, 3, 4, 1, 2, 3, 4, 5, 2, 5, 3, 2, 5, 1, 1, 2, 3, 4, 5, 1, 2, 5, 1, 2, 3, 5, 4, 3, 2, 3, 5, 3, 3, 4, 1, 3, 4, 3, 4, 3, 2, 4, 3, 4, 3, 1, 2, 3, 5, 2, 3, 4, 5, 2, 3, 4, 5, 1, 3, 4, 5, 4, 1, 2, 3, 4, 1, 1, 1, 2, 3, 4, 3, 4, 5, 1, 3, 4, 1, 2, 3, 4, 1, 2, 3, 4, 1, 1, 2, 1, 2, 3, 4, 5, 2, 3, 4, 2, 4, 5, 2, 3, 5, 2, 3, 4, 5, 2, 5, 2, 3, 5, 2, 5, 1, 2, 3, 4, 5, 1, 5, 2, 3, 4, 5, 2, 3, 4, 5, 5, 2, 3, 4, 3, 5, 3, 2, 4, 1, 2, 3, 4, 5, 1, 2, 3, 4, 5, 5, 3, 4, 3, 2, 5, 2, 3, 4, 5, 1, 2, 4, 2, 4, 1, 2, 4, 5, 1, 3, 4, 1, 2, 3, 4, 5, 1, 3, 4, 1, 3, 1, 1, 2, 3, 5, 1, 2, 3, 4, 5, 3, 5, 2, 1, 2, 4, 1, 1, 2, 4, 1, 4, 5, 1, 3, 4, 1, 4, 2, 3, 4, 5, 1, 2, 3, 4, 1, 2, 5, 1, 2, 5, 1, 2, 5, 1, 4, 1, 2, 3, 4, 3, 1, 2, 3, 4, 5, 1, 2, 3, 4, 5, 1, 3, 2, 3, 4, 5, 1, 3, 1, 3, 1, 1, 1, 5, 3, 4, 5, 1, 1, 2, 3, 4, 5, 1, 2, 3, 4, 5, 1, 2, 3, 4, 5, 1, 2, 3, 4, 1, 2, 4, 5, 2, 3, 4, 5, 2, 4, 2, 3, 4, 5, 2, 3, 4, 5, 2, 3, 4, 5, 2, 3, 4, 5, 2, 2, 4, 1, 2, 3, 4, 5, 1, 2, 3, 4, 5, 1, 3, 4, 5, 3, 2, 3, 4, 5, 3, 1, 3, 4, 5, 1, 2, 3, 4, 5, 2, 3, 4, 5, 2, 3, 5, 1, 2, 3, 1, 3, 4, 1, 3, 4, 5, 1, 2, 3, 4, 5, 1, 2, 3, 4, 5, 1, 2, 3, 4, 5, 1, 1, 2, 3, 4, 5, 1, 3, 4, 5, 1, 2, 3, 4, 5, 1, 2, 3, 4, 5, 1, 2, 3, 5, 2, 3, 2, 3, 5, 1, 2, 4, 1, 2, 3, 4, 5, 2, 4, 2, 3, 2, 4, 3, 4, 3, 4, 5, 2, 4, 5, 1, 2, 3, 4, 1, 2, 3, 4, 2, 3, 4, 1, 2, 3, 4, 5, 2, 3, 5, 1, 2, 3, 4, 5, 2, 4, 2, 1, 3, 4, 5, 3, 1, 3, 2, 4, 1, 2, 3, 4, 5, 1, 3, 1, 4, 2, 4, 1, 2, 3, 4, 5, 2, 3, 4, 5, 2, 3, 4, 5, 1, 2, 3, 4, 5, 3, 1, 1, 3, 4, 1, 2, 3, 4, 5, 2, 5, 2, 5, 1, 2, 3, 4, 5, 1, 2, 3, 4, 1, 1, 2, 3, 4, 5, 1, 2, 4, 5, 3, 2, 3, 4, 5, 2, 3, 4, 5, 1, 2, 4, 5, 3, 3, 1, 2, 3, 4, 5, 3, 4, 2, 3, 4, 5, 5, 2, 5, 1, 2, 3, 4, 5, 1, 2, 4, 5, 4, 2, 3, 4, 5, 1, 2, 4, 5, 4, 1, 2, 3, 4, 5, 2, 3, 4, 2, 3, 4, 5, 4, 5, 3, 5, 1, 2, 3, 1, 2, 3, 4, 5, 3, 1, 4, 4, 5, 3, 4, 1, 2, 5, 5, 3, 3, 1, 2, 3, 4, 5, 1, 3, 4, 5, 2, 3, 4, 5, 1, 2, 3, 4, 5, 3, 1, 3, 5, 1, 2, 3, 4, 5, 2, 3, 4, 5, 1, 3, 4, 1, 2, 1, 2, 3, 4, 5, 1, 2, 3, 4, 5, 2, 3, 4, 5, 1, 2, 4, 5, 5, 1, 2, 3, 4, 5, 2, 3, 4, 5, 1, 2, 3, 4, 5, 2, 3, 5, 1, 3, 2, 1, 2, 3, 4, 5, 1, 3, 4, 5, 3, 3, 4, 3, 4, 5, 1, 3, 1, 1, 2, 3, 4, 5, 2, 3, 4, 5, 2, 3, 5, 2, 4, 1, 2, 3, 4, 5, 1, 2, 3, 4, 5, 1, 1, 3, 5, 1, 3, 4, 5, 1, 1, 2, 3, 4, 5, 2, 2, 4, 5, 3, 4, 5, 2, 4, 4, 5, 1, 2, 3, 4, 5, 1, 3, 4, 5, 2, 5, 3, 5, 1, 3, 3, 2, 3, 4, 5, 4, 2, 4, 5, 2, 3, 4, 5, 1, 2, 3, 4, 5, 1, 2, 3, 4, 5, 2, 4, 1, 2, 3, 5, 2, 3, 5, 5, 1, 1, 2, 3, 4, 5, 1, 3, 1, 2, 4, 5, 1, 2, 3, 4, 5, 1, 2, 3, 4, 5, 1, 3, 4, 2, 3, 5, 1, 1, 3, 4, 1, 2, 3, 4, 5, 1, 2, 3, 4, 5, 3, 3, 1, 1, 3, 4, 2, 5, 1, 2, 3, 4, 5], \"Freq\": [0.003534264840999078, 0.5124684019448663, 0.37109780830490324, 0.02120558904599447, 0.09542515070697512, 0.7845957610445329, 0.20399489787157854, 0.7166073431137221, 0.1926363825574522, 0.09246546362757704, 0.008701855812032741, 0.5830243394061937, 0.21754639530081854, 0.052211134872196446, 0.1479315488045566, 0.01748436199535099, 0.1748436199535099, 0.39339814489539726, 0.04371090498837747, 0.36717160190237075, 0.9291947100637631, 0.9794431946877906, 0.015641179798046037, 0.2189765171726445, 0.0860264888892532, 0.1798735676775294, 0.5083383434364962, 0.07733018504188216, 0.8506320354607038, 0.28156351428108406, 0.31200281312228234, 0.33483228725318104, 0.06848842239269612, 0.9292953575899522, 0.15413367860908467, 0.231200517913627, 0.6011213465754303, 0.010035385077029783, 0.37130924785010194, 0.20070770154059564, 0.3412030926190126, 0.07024769553920848, 0.9527734771383514, 0.035287906560679684, 0.9730777290328779, 0.0835907023467402, 0.835907023467402, 0.038040727716640424, 0.1521629108665617, 0.5668068429779424, 0.1635751291815538, 0.08368960097660894, 0.9700272268753701, 0.3979431088764668, 0.553659977567258, 0.03460374859795363, 0.8967305439608134, 0.06005597255439057, 0.630587711821101, 0.18016791766317172, 0.06005597255439057, 0.06005597255439057, 0.20872012378176497, 0.05218003094544124, 0.1391467491878433, 0.6087670276968145, 0.932964951755218, 0.08985457536997153, 0.8086911783297438, 0.13525529165506597, 0.03381382291376649, 0.8115317499303959, 0.10859057916849091, 0.6264841105874476, 0.10859057916849091, 0.15870930801548672, 0.6618248394745205, 0.29055724659856996, 0.024213103883214165, 0.03228413851095222, 0.9715235662110069, 0.9555709325556457, 0.8800958080146253, 0.05500598800091408, 0.9870672228767975, 0.9454452881525884, 0.027807214357429073, 0.9530041846640825, 0.030254101100447066, 0.8560834531293225, 0.12750179089160124, 0.8403097983337436, 0.10892904793215195, 0.031122585123471987, 0.13292865408738852, 0.03467704019671005, 0.34099089526764886, 0.24851878807642205, 0.24851878807642205, 0.9662989235876278, 0.025428919041779678, 0.961817961413839, 0.06389411257512707, 0.9264646323393426, 0.9735003530276858, 0.1098776430133392, 0.5398336374133622, 0.1289867983200069, 0.14809595362667458, 0.07165933240000383, 0.04333522694388201, 0.04333522694388201, 0.8667045388776402, 0.600641099806088, 0.09193486221521754, 0.300320549903044, 0.0061289908143478365, 0.9558216473080502, 0.9715751806410019, 0.12149472579140382, 0.2733631330306586, 0.6074736289570191, 0.9791233846928181, 0.16265419193622635, 0.8132709596811317, 0.09789597887384872, 0.04894798943692436, 0.8321158204277141, 0.18463072559118374, 0.7754490474829717, 0.9770008441533785, 0.11167288106653557, 0.8561587548434393, 0.9557279880019961, 0.02896145418187867, 0.9699530870797982, 0.06424803731573575, 0.08719376492849851, 0.7939221754015917, 0.05506974627063064, 0.09401443040415414, 0.04700721520207707, 0.0705108228031156, 0.7756190508342716, 0.10467924917312696, 0.03489308305770899, 0.06978616611541798, 0.7676478272695977, 0.15436913612108946, 0.12349530889687158, 0.07203893018984175, 0.6586416474499818, 0.8853360385895097, 0.9182561730187148, 0.04832927226414288, 0.02416463613207144, 0.8986963379224963, 0.9636119521118187, 0.9666732823702409, 0.050243723778207385, 0.787151672525249, 0.13398326340855302, 0.033495815852138254, 0.9699754915419423, 0.04186728931579998, 0.9629476542633995, 0.9673429775983489, 0.1653285799594029, 0.8266428997970144, 0.1818185549715299, 0.02479343931429953, 0.09917375725719813, 0.6942163008003869, 0.097717601606995, 0.097717601606995, 0.0488588008034975, 0.78174081285596, 0.967286193361269, 0.925073964705029, 0.03426199869277885, 0.5857893206934461, 0.0537421395131602, 0.2955817673223811, 0.04836792556184418, 0.01612264185394806, 0.05402551399607111, 0.7563571959449955, 0.18908929898624888, 0.06026473706257851, 0.06026473706257851, 0.8437063188760991, 0.026667849927939836, 0.9467086724418642, 0.026667849927939836, 0.5485882895866888, 0.20211147511088534, 0.151583606333164, 0.09383747058719677, 0.9327568512900262, 0.0746205481032021, 0.9515599835902212, 0.9889064839202659, 0.9284735647923416, 0.9268108550604944, 0.9493243837830877, 0.07762613232457256, 0.6382593102242633, 0.02587537744152419, 0.04312562906920698, 0.21562814534603492, 0.9535309292383165, 0.018696684887025816, 0.1568639720565048, 0.26546210655716196, 0.012066459388961908, 0.5671235912812096, 0.24564225481853663, 0.7274789854241277, 0.009447779031482178, 0.018895558062964356, 0.9720099865486681, 0.1266616190767734, 0.0633308095383867, 0.823300523999027, 0.9615488186255153, 0.025987805908797713, 0.966254212039686, 0.11983838598986156, 0.838868701929031, 0.038096306532273486, 0.05714445979841022, 0.19048153266136741, 0.6285890577825125, 0.07619261306454697, 0.284441881419635, 0.09922391212312849, 0.39689564849251396, 0.09591644838569088, 0.12237615828519181, 0.9318655713989208, 0.9496159032346996, 0.04828555440176439, 0.9715701540193237, 0.05436002124235918, 0.9241203611201061, 0.26138559716538945, 0.05881175936221263, 0.24831631730712, 0.4312862353228926, 0.33454344218723153, 0.18734432762484965, 0.4683608190621241, 0.11353208128826478, 0.8514906096619858, 0.010050193841931438, 0.8090406042754809, 0.055276066130622914, 0.12562742302414298, 0.8735860752508352, 0.104189164938173, 0.016029102298180463, 0.7969226538374558, 0.016836394095157515, 0.14030328412631263, 0.016836394095157515, 0.028060656825262528, 0.8135634681914456, 0.1284573897144388, 0.05709217320641724, 0.9088601157871681, 0.058636136502397934, 0.986245032696933, 0.031085614203952408, 0.07253309980922229, 0.8703971977106674, 0.020723742802634938, 0.011825717828918642, 0.3429458170386406, 0.08278002480243049, 0.5439830201302575, 0.023651435657837283, 0.964087035082247, 0.024720180386724282, 0.9676132581134455, 0.06138680909446353, 0.1534670227361588, 0.7673351136807941, 0.9827495596585372, 0.10410989890991251, 0.8707373363374501, 0.018929072529075, 0.07469762607628506, 0.07469762607628506, 0.8216738868391358, 0.853475675389302, 0.121925096484186, 0.020320849414031, 0.019703520713962225, 0.965472514984149, 0.32848581192234394, 0.22194987292050267, 0.07102395933456085, 0.38175378142326455, 0.06415114259503975, 0.010691857099173292, 0.021383714198346584, 0.8981159963305565, 0.9648742846864272, 0.05709029885305441, 0.9134447816488706, 0.9735530159748332, 0.23252448451473637, 0.7626803092083353, 0.9457284144805723, 0.9211384381396399, 0.06140922920930933, 0.980712229279497, 0.9457931726056646, 0.07646695338815288, 0.1092385048402184, 0.8083649358176161, 0.010923850484021839, 0.9682068903592469, 0.020201386329675303, 0.22221524962642833, 0.2676683688681978, 0.3434235676044802, 0.15151039747256478, 0.4797117251175145, 0.08158362672066573, 0.21864411961138414, 0.14032383795954503, 0.08158362672066573, 0.6901508838471438, 0.3112445162447903, 0.20504940033257144, 0.3661596434510204, 0.08787831442824491, 0.340528468409449, 0.9331133050440931, 0.06220755366960621, 0.9646827249142217, 0.031118797577878117, 0.9715195133875308, 0.9785864560032999, 0.967311881150062, 0.9288830198121018, 0.2769443032388636, 0.05934520783689934, 0.6725790221515259, 0.9673105146627556, 0.21104699622650952, 0.29363060344557845, 0.2569267780148812, 0.16057923625930073, 0.07799562904023179, 0.3128331251506031, 0.0893808929001723, 0.5213885419176717, 0.04469044645008615, 0.03351783483756461, 0.37587265937241726, 0.06834048352225769, 0.47411210443566265, 0.06834048352225769, 0.017085120880564422, 0.8433965499384947, 0.04362395947957731, 0.01454131982652577, 0.08724791895915462, 0.012508935716405482, 0.2626876500445151, 0.08756255001483837, 0.6254467858202741, 0.05542121150961866, 0.08313181726442799, 0.02771060575480933, 0.8313181726442799, 0.9175761566094901, 0.0764646797174575, 0.8769022751296122, 0.06189898412679615, 0.030949492063398074, 0.02063299470893205, 0.12015027662293438, 0.030037569155733596, 0.06007513831146719, 0.7809767980490735, 0.08524671344989526, 0.08524671344989526, 0.02841557114996509, 0.7956359921990225, 0.12532559426600223, 0.02506511885320045, 0.7268884467428129, 0.12532559426600223, 0.912428186552028, 0.9006358792457582, 0.07205087033966065, 0.07479259362041482, 0.7396156480241021, 0.13296461088073747, 0.016620576360092183, 0.033241152720184367, 0.12251457564025983, 0.011668054822881888, 0.834265919836055, 0.023336109645763776, 0.005834027411440944, 0.015925908725046466, 0.2707404483257899, 0.07962954362523232, 0.6370363490018586, 0.9641528085474513, 0.00757335471144003, 0.8406423729698433, 0.05301348298008021, 0.09845361124872039, 0.9840751550571754, 0.7843593328405665, 0.15466240365870326, 0.011047314547050232, 0.04418925818820093, 0.5901377408928051, 0.01044491576801425, 0.2872351836203919, 0.0626694946080855, 0.047002120956064125, 0.14632255639855923, 0.3365418797166862, 0.49749669175510136, 0.014632255639855922, 0.9268720268939398, 0.9738167686217339, 0.019476335372434678, 0.036189136887559765, 0.05428370533133965, 0.9047284221889942, 0.01633791399771124, 0.9475990118672518, 0.01633791399771124, 0.49629338380688276, 0.4411496744950069, 0.04901663049944521, 0.018381236437291955, 0.6231736846882029, 0.008199653745897406, 0.20499134364743515, 0.10659549869666628, 0.05739757622128184, 0.08435262992491926, 0.40971277392103644, 0.036151127110679686, 0.4217631496245963, 0.048201502814239586, 0.5076450818101637, 0.04333555576428227, 0.26620412826630535, 0.14857904833468205, 0.03714476208367051, 0.963613409294549, 0.6729679467566954, 0.008412099334458691, 0.2018903840270086, 0.05047259600675215, 0.06729679467566953, 0.8043651304768972, 0.17874780677264382, 0.005958260225754794, 0.011916520451509588, 0.015573759444403198, 0.4672127833320959, 0.18688511333283836, 0.03893439861100799, 0.28811454972145917, 0.6853187579955459, 0.12320337222391836, 0.10780295069592856, 0.046201264583969386, 0.038501053819974485, 0.9216641317145453, 0.02333326915733026, 0.04666653831466052, 0.01166663457866513, 0.9463350098252612, 0.03785340039301045, 0.8933280768254314, 0.05955520512169542, 0.02977760256084771, 0.031600305801417004, 0.916408868241093, 0.031600305801417004, 0.431072008972198, 0.021200262736337606, 0.45933902595398146, 0.08126767382262749, 0.003533377122722934, 0.8573270627683449, 0.14288784379472416, 0.8915990672468893, 0.049533281513716075, 0.9711094662229757, 0.961281169900985, 0.9475691736022068, 0.04407298481870729, 0.045039013711408366, 0.9007802742281673, 0.045039013711408366, 0.8314944485995284, 0.05939246061425203, 0.09898743435708672, 0.03018657917831802, 0.08049754447551473, 0.8452242169929046, 0.03018657917831802, 0.04992157113354106, 0.07131653019077294, 0.5134790173735652, 0.3708459569920193, 0.04126032190406047, 0.12378096571218139, 0.7839461161771488, 0.1705468775426652, 0.15504261594787747, 0.4651278478436324, 0.19638731353397812, 0.010336174396525165, 0.5271464234042357, 0.4298270836988383, 0.032439779901799116, 0.007752355833222581, 0.6124361108245839, 0.1627994724976742, 0.031009423332890324, 0.18605653999734195, 0.9206371529561364, 0.07464625564509214, 0.9552194880623694, 0.031245494269591, 0.906119333818139, 0.0156227471347955, 0.031245494269591, 0.9855694515768127, 0.922999896090568, 0.07178888080704417, 0.13493197518737662, 0.8545691761867186, 0.11454560135227124, 0.12981834819924074, 0.7330918486545359, 0.010181831231312999, 0.012727289039141249, 0.7597472692528928, 0.23701517374128706, 0.20119842754167952, 0.7880271745382448, 0.049143575419482124, 0.8845843575506783, 0.02317666583926996, 0.42645065144256733, 0.42645065144256733, 0.11124799602849582, 0.013905999503561977, 0.14878301423524423, 0.8307051628134469, 0.012398584519603685, 0.012398584519603685, 0.019136457946611923, 0.21050103741273116, 0.13395520562628346, 0.6315031122381934, 0.49048562211653246, 0.00784776995386452, 0.4277034624856163, 0.05101050470011938, 0.02354330986159356, 0.9663057504606783, 0.9538625526127229, 0.14491190687719274, 0.8332434645438582, 0.018113988359649093, 0.077004089742142, 0.3368928926218713, 0.12513164583098077, 0.10588062339544525, 0.3561439150574068, 0.07402736655385135, 0.9130041874975, 0.17591675416581531, 0.8041908761865844, 0.2409477770467997, 0.14682755163789357, 0.44424746393003695, 0.1242386975397561, 0.041412899179918694, 0.8980564858907933, 0.018709510122724864, 0.018709510122724864, 0.03741902024544973, 0.9892182418587578, 0.567956392180365, 0.08414168773042445, 0.1682833754608489, 0.07362397676412138, 0.10517710966303057, 0.023526110547062964, 0.8469399796942667, 0.05881527636765741, 0.05881527636765741, 0.9910664355618186, 0.9124146689882814, 0.9302865219297198, 0.021142875498402724, 0.021142875498402724, 0.05928956814782654, 0.8419118676991368, 0.04743165451826123, 0.04743165451826123, 0.1462141275033568, 0.026584386818792143, 0.5848565100134272, 0.23925948136912928, 0.9641653665390173, 0.9730728856465555, 0.013463961318313808, 0.06731980659156904, 0.6900280175635827, 0.18849545845639332, 0.037025893625362974, 0.08277757348661752, 0.8277757348661752, 0.2726587406021189, 0.23857639802685407, 0.3408234257526487, 0.1533705415886919, 0.8136632596027096, 0.8878548264764059, 0.05222675449861211, 0.047151704740253104, 0.7544272758440497, 0.011787926185063276, 0.10609133566556948, 0.08251548329544293, 0.015912370641915655, 0.7956185320957828, 0.06364948256766262, 0.12729896513532524, 0.8652659625199466, 0.5383777062110533, 0.2170877847625215, 0.09117686960025903, 0.15196144933376504, 0.010460296882017427, 0.8891252349714812, 0.010460296882017427, 0.08368237505613942, 0.8994169772377761, 0.00885459167344849, 0.5932576421210489, 0.07969132506103642, 0.15938265012207284, 0.15938265012207284, 0.8639057222027758, 0.0886057150977206, 0.0443028575488603, 0.32867644939762325, 0.4133355348485262, 0.14939838608982875, 0.10955881646587441, 0.05179902752991301, 0.8805834680085212, 0.9459929587657178, 0.0461459979885716, 0.11248769967926629, 0.8717796725143138, 0.9819128675756006, 0.054863545525532936, 0.7406578645946946, 0.10972709105106587, 0.054863545525532936, 0.0411476591441497, 0.9902533534287873, 0.06011994579777575, 0.9017991869666362, 0.10877520505709366, 0.8702016404567493, 0.10742220559687032, 0.8593776447749626, 0.05487497704741404, 0.9054371212823317, 0.02743748852370702, 0.9793676529466816, 0.9867890167564691, 0.9641848068416479, 0.038839187042350766, 0.7088151635229015, 0.05825878056352615, 0.15535674816940306, 0.048548983802938456, 0.15488227336468047, 0.13939404602821243, 0.061952909345872186, 0.6350173207951899, 0.9483276557041734, 0.034694914233079514, 0.051798045831271594, 0.8805667791316171, 0.4963165287193556, 0.018728925612051153, 0.2809338841807673, 0.10300909086628135, 0.09832685946326856, 0.9618152865536403, 0.8218377217140452, 0.16436754434280904, 0.009668679078988768, 0.37320172419620257, 0.017416080462489453, 0.5859267069880381, 0.0037320172419620257, 0.019904091957130804, 0.8659792137868282, 0.05093995375216637, 0.008489992292027728, 0.07640993062824955, 0.9235707754728874, 0.026387736442082498, 0.052775472884164995, 0.054832205450476616, 0.9321474926581025, 0.17474099523299508, 0.04077289888769885, 0.4892747866523862, 0.2737608925316923, 0.017474099523299508, 0.011178414376486326, 0.10060572938837693, 0.2571035306591855, 0.54774230444783, 0.0894273150118906, 0.058409771939481665, 0.3337701253684666, 0.1418523032815983, 0.45893392238164166, 0.1349764994093534, 0.2699529988187068, 0.0736235451323746, 0.5153648159266221, 0.9027195155427008, 0.009824191652680572, 0.4273523368916049, 0.2161322163589726, 0.08841772487412515, 0.2603410787960352, 0.41761890807043117, 0.11778994843012161, 0.06424906278006634, 0.3962025538104091, 0.01625362239825229, 0.04876086719475687, 0.07314130079213531, 0.040634055995630726, 0.8208079311117407, 0.8852935947349816, 0.026827078628332775, 0.1073083145133311, 0.9433915034313546, 0.04965218439112393, 0.9728935132112077, 0.3453571352024591, 0.47309196603076586, 0.10881115218707614, 0.05204011626338424, 0.014192758980922976, 0.783826927962794, 0.16217108854402634, 0.040542772136006586, 0.013514257378668862, 0.9834906253879764, 0.9642240689991621, 0.024410735924029422, 0.9661384095953537, 0.023564351453545213, 0.023564351453545213, 0.07688368242452451, 0.90979024202354, 0.963611499595252, 0.008238496669676661, 0.3480764842938389, 0.30688400094545565, 0.014417369171934157, 0.3213013701173898, 0.121918634897227, 0.2926047237533448, 0.048767453958890795, 0.5333940276753681, 0.051895429214870954, 0.19028324045452683, 0.7611329618181073, 0.0491384227952185, 0.8844916103139331, 0.11160285355390583, 0.013950356694238228, 0.05580142677695291, 0.7672696181831026, 0.05580142677695291, 0.014498135375445444, 0.11598508300356355, 0.10148694762811811, 0.7684011748986085, 0.014498135375445444, 0.9636307676968369, 0.8797293083496193, 0.091638469619752, 0.0183276939239504, 0.773635883034179, 0.0762739602991444, 0.02179256008546983, 0.1416516405555539, 0.9636158843839899, 0.02102863268285219, 0.7780594092655311, 0.08411453073140876, 0.05607635382093917, 0.06308589804855658, 0.9898668422100143, 0.3934965623413285, 0.10416085473741049, 0.5034441312308173, 0.08996149283694388, 0.7796662712535136, 0.14993582139490647, 0.4367302916762643, 0.5415455616785677, 0.9612679553793526, 0.9193054150886815, 0.8081720621791844, 0.014303930304056361, 0.10012751212839453, 0.050063756064197266, 0.028607860608112722, 0.06729378039059666, 0.11215630065099444, 0.15701882091139222, 0.6729378039059666, 0.1299187708834623, 0.8228188822619278, 0.11164762317537645, 0.8559651110112194, 0.9583503221324904, 0.034226797219017516, 0.9757545118362284, 0.02692467101624853, 0.10769868406499412, 0.807740130487456, 0.05384934203249706, 0.9803513943478115, 0.04702882025247411, 0.8935475847970081, 0.04702882025247411, 0.11046985259596995, 0.42179398263915796, 0.03682328419865665, 0.4284891252207319, 0.024527681120644063, 0.08175893706881354, 0.34338753568901687, 0.5477848783610507, 0.7725953846320696, 0.24857101529640094, 0.37482930878028714, 0.07891143342742887, 0.07102029008468598, 0.22489758526817227, 0.8829547835330689, 0.08026861668482445, 0.8251168239257768, 0.023574766397879338, 0.14144859838727603, 0.011787383198939669, 0.09619443178516023, 0.04809721589258011, 0.865749886066442, 0.9423156841257146, 0.966673932737771, 0.03375437225976541, 0.16202098684687397, 0.7628488130706982, 0.03375437225976541, 0.013501748903906163, 0.9232652116403784, 0.06839001567706507, 0.5776901524888853, 0.30113635608463174, 0.030728199600472628, 0.09218459880141788, 0.5202757033546538, 0.09459558242811886, 0.23648895607029716, 0.10551045732367104, 0.04729779121405943, 0.11521171784619004, 0.05236896265735911, 0.7384023734687635, 0.06284275518883094, 0.03142137759441547, 0.7261851345512743, 0.24690294574743327, 0.02178555403653823, 0.08307089190468461, 0.8860895136499692, 0.02769029730156154, 0.9706054409706464, 0.9009669057319356, 0.07207735245855484, 0.01801933811463871, 0.2840711620848857, 0.22570037535511464, 0.1673295886253436, 0.2179176037911452, 0.10506741611358786, 0.10933656885426447, 0.1796243631177202, 0.5388730893531607, 0.14838534344507323, 0.023429264754485247, 0.9744586381020772, 0.9757574902516147, 0.9511281587155568, 0.015866157947773647, 0.9202371609708715, 0.06346463179109459, 0.9206462217865276, 0.0613764147857685, 0.06735380081113378, 0.2087967825145147, 0.6533318678679976, 0.0606184207300204, 0.013470760162226755], \"Term\": [\"000\", \"000\", \"000\", \"000\", \"000\", \"1959\", \"1959\", \"1960\", \"1960\", \"1960\", \"1961\", \"1961\", \"1961\", \"1961\", \"1961\", \"30\", \"30\", \"30\", \"30\", \"30\", \"62\", \"academic\", \"act\", \"act\", \"act\", \"act\", \"act\", \"adjustments\", \"adjustments\", \"administration\", \"administration\", \"administration\", \"administration\", \"adopting\", \"agreement\", \"agreement\", \"agreement\", \"aid\", \"aid\", \"aid\", \"aid\", \"aid\", \"aircraft\", \"aircraft\", \"alexander\", \"allocation\", \"allocation\", \"american\", \"american\", \"american\", \"american\", \"american\", \"anne\", \"anti\", \"anti\", \"anti\", \"appearances\", \"areas\", \"areas\", \"areas\", \"areas\", \"areas\", \"art\", \"art\", \"art\", \"art\", \"assessment\", \"assigned\", \"assigned\", \"authorized\", \"authorized\", \"authorized\", \"available\", \"available\", \"available\", \"available\", \"away\", \"away\", \"away\", \"away\", \"baby\", \"bankers\", \"banks\", \"banks\", \"baseball\", \"bed\", \"bed\", \"berlin\", \"berlin\", \"billion\", \"billion\", \"black\", \"black\", \"black\", \"board\", \"board\", \"board\", \"board\", \"board\", \"boats\", \"boats\", \"bombs\", \"bonds\", \"bonds\", \"bride\", \"business\", \"business\", \"business\", \"business\", \"business\", \"calendar\", \"calendar\", \"calendar\", \"came\", \"came\", \"came\", \"came\", \"campus\", \"captain\", \"cars\", \"cars\", \"cars\", \"castro\", \"catholic\", \"catholic\", \"cattle\", \"cattle\", \"cattle\", \"chamber\", \"chamber\", \"charter\", \"chemical\", \"chemical\", \"china\", \"china\", \"chinese\", \"city\", \"city\", \"city\", \"city\", \"claim\", \"claim\", \"claim\", \"claim\", \"claims\", \"claims\", \"claims\", \"claims\", \"class\", \"class\", \"class\", \"class\", \"classical\", \"clay\", \"clay\", \"clay\", \"clerical\", \"cloth\", \"clothes\", \"co\", \"co\", \"co\", \"co\", \"coach\", \"coal\", \"coal\", \"coat\", \"collective\", \"collective\", \"college\", \"college\", \"college\", \"college\", \"colleges\", \"colleges\", \"colleges\", \"colleges\", \"colored\", \"colors\", \"colors\", \"come\", \"come\", \"come\", \"come\", \"come\", \"committee\", \"committee\", \"committee\", \"commodities\", \"commodities\", \"commodities\", \"communist\", \"communist\", \"communist\", \"company\", \"company\", \"company\", \"company\", \"compared\", \"compared\", \"components\", \"congo\", \"connections\", \"conservation\", \"coordination\", \"cost\", \"cost\", \"cost\", \"cost\", \"cost\", \"couldn\", \"couldn\", \"countries\", \"countries\", \"countries\", \"countries\", \"county\", \"county\", \"county\", \"county\", \"cousin\", \"creative\", \"creative\", \"creative\", \"cuba\", \"cuba\", \"cuban\", \"curriculum\", \"curriculum\", \"daily\", \"daily\", \"daily\", \"daily\", \"daily\", \"day\", \"day\", \"day\", \"day\", \"day\", \"definition\", \"democratic\", \"democratic\", \"democrats\", \"denied\", \"denied\", \"department\", \"department\", \"department\", \"department\", \"design\", \"design\", \"design\", \"designer\", \"designer\", \"development\", \"development\", \"development\", \"development\", \"didn\", \"didn\", \"didn\", \"don\", \"don\", \"don\", \"don\", \"don\", \"door\", \"door\", \"door\", \"drill\", \"drill\", \"dry\", \"east\", \"east\", \"east\", \"east\", \"education\", \"education\", \"education\", \"education\", \"education\", \"eisenhower\", \"eisenhower\", \"electronic\", \"engineer\", \"engineer\", \"engineer\", \"entrance\", \"equipment\", \"equipment\", \"equipment\", \"exercise\", \"exercise\", \"exercise\", \"eyes\", \"eyes\", \"eyes\", \"faculty\", \"faculty\", \"federal\", \"federal\", \"federal\", \"federal\", \"feed\", \"feed\", \"feed\", \"feed\", \"fig\", \"filing\", \"filing\", \"fingers\", \"fiscal\", \"fiscal\", \"flowers\", \"forests\", \"forests\", \"frames\", \"fulfill\", \"game\", \"game\", \"game\", \"game\", \"gen\", \"general\", \"general\", \"general\", \"general\", \"general\", \"good\", \"good\", \"good\", \"good\", \"good\", \"got\", \"got\", \"government\", \"government\", \"government\", \"government\", \"guests\", \"guests\", \"hadn\", \"hadn\", \"hair\", \"ham\", \"handsome\", \"hated\", \"hearing\", \"hearing\", \"hearing\", \"hell\", \"high\", \"high\", \"high\", \"high\", \"high\", \"home\", \"home\", \"home\", \"home\", \"home\", \"house\", \"house\", \"house\", \"house\", \"house\", \"inch\", \"inch\", \"inch\", \"inch\", \"income\", \"income\", \"income\", \"income\", \"india\", \"india\", \"india\", \"india\", \"industrial\", \"industrial\", \"industry\", \"industry\", \"industry\", \"industry\", \"insurance\", \"insurance\", \"insurance\", \"insurance\", \"interference\", \"interference\", \"interference\", \"interference\", \"interior\", \"interior\", \"interior\", \"interior\", \"inventories\", \"investment\", \"investment\", \"island\", \"island\", \"island\", \"island\", \"island\", \"john\", \"john\", \"john\", \"john\", \"john\", \"junior\", \"junior\", \"junior\", \"junior\", \"katanga\", \"kennedy\", \"kennedy\", \"kennedy\", \"kennedy\", \"khrushchev\", \"knew\", \"knew\", \"knew\", \"knew\", \"know\", \"know\", \"know\", \"know\", \"know\", \"labor\", \"labor\", \"labor\", \"labor\", \"laboratory\", \"laos\", \"laos\", \"leaders\", \"leaders\", \"leaders\", \"league\", \"league\", \"league\", \"left\", \"left\", \"left\", \"left\", \"let\", \"let\", \"let\", \"let\", \"let\", \"level\", \"level\", \"level\", \"level\", \"level\", \"life\", \"life\", \"life\", \"life\", \"life\", \"liked\", \"little\", \"little\", \"little\", \"little\", \"little\", \"ll\", \"ll\", \"ll\", \"ll\", \"local\", \"local\", \"local\", \"local\", \"local\", \"look\", \"look\", \"look\", \"look\", \"look\", \"looked\", \"looked\", \"looked\", \"looked\", \"machine\", \"machine\", \"machinery\", \"machinery\", \"machinery\", \"machines\", \"machines\", \"machines\", \"man\", \"man\", \"man\", \"man\", \"man\", \"manufacturers\", \"manufacturers\", \"manufacturing\", \"manufacturing\", \"marketing\", \"mathematics\", \"mayor\", \"mayor\", \"meat\", \"meat\", \"meat\", \"medical\", \"medical\", \"medical\", \"meeting\", \"meeting\", \"meeting\", \"meeting\", \"members\", \"members\", \"members\", \"members\", \"membership\", \"membership\", \"membership\", \"men\", \"men\", \"men\", \"men\", \"men\", \"military\", \"military\", \"military\", \"million\", \"million\", \"million\", \"million\", \"million\", \"missile\", \"missile\", \"missiles\", \"monday\", \"monday\", \"monday\", \"monday\", \"moscow\", \"mother\", \"mother\", \"motors\", \"motors\", \"mr\", \"mr\", \"mr\", \"mr\", \"mr\", \"mrs\", \"mrs\", \"music\", \"music\", \"musical\", \"musical\", \"national\", \"national\", \"national\", \"national\", \"national\", \"nations\", \"nations\", \"nations\", \"nations\", \"officer\", \"officer\", \"officer\", \"officer\", \"old\", \"old\", \"old\", \"old\", \"old\", \"opposition\", \"pale\", \"party\", \"party\", \"party\", \"pay\", \"pay\", \"pay\", \"pay\", \"pay\", \"payment\", \"payment\", \"payments\", \"payments\", \"people\", \"people\", \"people\", \"people\", \"people\", \"pieces\", \"pieces\", \"pieces\", \"pieces\", \"pink\", \"place\", \"place\", \"place\", \"place\", \"place\", \"planning\", \"planning\", \"planning\", \"planning\", \"player\", \"polaris\", \"police\", \"police\", \"police\", \"political\", \"political\", \"political\", \"political\", \"pool\", \"pool\", \"pool\", \"pool\", \"pope\", \"premier\", \"president\", \"president\", \"president\", \"president\", \"president\", \"prestige\", \"prestige\", \"problem\", \"problem\", \"problem\", \"problem\", \"proceedings\", \"procurement\", \"procurement\", \"production\", \"production\", \"production\", \"production\", \"production\", \"products\", \"products\", \"products\", \"products\", \"professors\", \"program\", \"program\", \"program\", \"program\", \"property\", \"property\", \"property\", \"property\", \"prosperity\", \"provide\", \"provide\", \"provide\", \"provide\", \"provide\", \"providence\", \"providence\", \"providence\", \"public\", \"public\", \"public\", \"public\", \"puerto\", \"puerto\", \"race\", \"race\", \"radiation\", \"radiation\", \"railroad\", \"range\", \"range\", \"range\", \"range\", \"range\", \"rayburn\", \"recognition\", \"recognition\", \"recommendation\", \"recommendation\", \"recorded\", \"recorded\", \"recreation\", \"recreation\", \"recreation\", \"rehabilitation\", \"republican\", \"republicans\", \"research\", \"research\", \"research\", \"research\", \"research\", \"return\", \"return\", \"return\", \"return\", \"rhode\", \"rhode\", \"rico\", \"rico\", \"right\", \"right\", \"right\", \"right\", \"right\", \"robinson\", \"room\", \"room\", \"room\", \"said\", \"said\", \"said\", \"said\", \"said\", \"sales\", \"sales\", \"sales\", \"sales\", \"sat\", \"sat\", \"sat\", \"savings\", \"savings\", \"school\", \"school\", \"school\", \"school\", \"school\", \"schools\", \"schools\", \"schools\", \"schools\", \"schools\", \"secretary\", \"secretary\", \"secretary\", \"secretary\", \"section\", \"section\", \"section\", \"section\", \"sectors\", \"service\", \"service\", \"service\", \"service\", \"service\", \"services\", \"services\", \"services\", \"services\", \"shall\", \"shall\", \"shall\", \"shall\", \"shall\", \"shares\", \"shares\", \"shares\", \"shelter\", \"shelter\", \"shipments\", \"small\", \"small\", \"small\", \"small\", \"small\", \"son\", \"son\", \"son\", \"son\", \"southern\", \"soviet\", \"soviet\", \"speaker\", \"speaker\", \"speaker\", \"st\", \"st\", \"stared\", \"state\", \"state\", \"state\", \"state\", \"state\", \"states\", \"states\", \"states\", \"states\", \"stations\", \"stations\", \"stations\", \"stockholders\", \"stockholders\", \"student\", \"student\", \"student\", \"student\", \"student\", \"students\", \"students\", \"students\", \"students\", \"students\", \"studio\", \"sun\", \"sun\", \"sun\", \"sure\", \"sure\", \"sure\", \"sure\", \"sweet\", \"system\", \"system\", \"system\", \"system\", \"system\", \"systems\", \"tax\", \"tax\", \"tax\", \"teachers\", \"teachers\", \"teachers\", \"technical\", \"technical\", \"tends\", \"thereof\", \"thought\", \"thought\", \"thought\", \"thought\", \"thought\", \"title\", \"title\", \"title\", \"title\", \"tractor\", \"tractor\", \"treasury\", \"treasury\", \"trees\", \"trees\", \"troops\", \"trust\", \"trust\", \"trust\", \"trust\", \"trustees\", \"unions\", \"unions\", \"unions\", \"united\", \"united\", \"united\", \"united\", \"university\", \"university\", \"university\", \"university\", \"upstairs\", \"use\", \"use\", \"use\", \"use\", \"use\", \"utility\", \"utility\", \"ve\", \"ve\", \"ve\", \"ve\", \"vehicles\", \"vehicles\", \"vehicles\", \"vocational\", \"walls\", \"war\", \"war\", \"war\", \"war\", \"war\", \"wasn\", \"wasn\", \"water\", \"water\", \"water\", \"water\", \"way\", \"way\", \"way\", \"way\", \"way\", \"week\", \"week\", \"week\", \"week\", \"week\", \"went\", \"went\", \"went\", \"west\", \"west\", \"west\", \"windows\", \"woman\", \"woman\", \"woman\", \"work\", \"work\", \"work\", \"work\", \"work\", \"world\", \"world\", \"world\", \"world\", \"world\", \"yankees\", \"yards\", \"yellow\", \"yesterday\", \"yesterday\", \"yesterday\", \"yield\", \"yield\", \"york\", \"york\", \"york\", \"york\", \"york\"]}, \"R\": 30, \"lambda.step\": 0.01, \"plot.opts\": {\"xlab\": \"PC1\", \"ylab\": \"PC2\"}, \"topic.order\": [1, 2, 3, 4, 5]};\n",
       "\n",
       "function LDAvis_load_lib(url, callback){\n",
       "  var s = document.createElement('script');\n",
       "  s.src = url;\n",
       "  s.async = true;\n",
       "  s.onreadystatechange = s.onload = callback;\n",
       "  s.onerror = function(){console.warn(\"failed to load library \" + url);};\n",
       "  document.getElementsByTagName(\"head\")[0].appendChild(s);\n",
       "}\n",
       "\n",
       "if(typeof(LDAvis) !== \"undefined\"){\n",
       "   // already loaded: just create the visualization\n",
       "   !function(LDAvis){\n",
       "       new LDAvis(\"#\" + \"ldavis_el2289613272918858084833521774\", ldavis_el2289613272918858084833521774_data);\n",
       "   }(LDAvis);\n",
       "}else if(typeof define === \"function\" && define.amd){\n",
       "   // require.js is available: use it to load d3/LDAvis\n",
       "   require.config({paths: {d3: \"https://d3js.org/d3.v5\"}});\n",
       "   require([\"d3\"], function(d3){\n",
       "      window.d3 = d3;\n",
       "      LDAvis_load_lib(\"https://cdn.jsdelivr.net/gh/bmabey/pyLDAvis@3.4.0/pyLDAvis/js/ldavis.v3.0.0.js\", function(){\n",
       "        new LDAvis(\"#\" + \"ldavis_el2289613272918858084833521774\", ldavis_el2289613272918858084833521774_data);\n",
       "      });\n",
       "    });\n",
       "}else{\n",
       "    // require.js not available: dynamically load d3 & LDAvis\n",
       "    LDAvis_load_lib(\"https://d3js.org/d3.v5.js\", function(){\n",
       "         LDAvis_load_lib(\"https://cdn.jsdelivr.net/gh/bmabey/pyLDAvis@3.4.0/pyLDAvis/js/ldavis.v3.0.0.js\", function(){\n",
       "                 new LDAvis(\"#\" + \"ldavis_el2289613272918858084833521774\", ldavis_el2289613272918858084833521774_data);\n",
       "            })\n",
       "         });\n",
       "}\n",
       "</script>"
      ],
      "text/plain": [
       "<IPython.core.display.HTML object>"
      ]
     },
     "execution_count": 63,
     "metadata": {},
     "output_type": "execute_result"
    }
   ],
   "source": [
    "pyLDAvis.display(lda_display)"
   ]
  },
  {
   "cell_type": "markdown",
   "id": "a3d14c87",
   "metadata": {},
   "source": [
    "Q: What conclusions do you draw from the visualization above? Please address the principal component scatterplot and the salient terms graph.\n",
    "\n",
    "A: Through this visualization you can see the relations between topics and their associated terms. In the intertopic distance map (princiapl component scatter plot), the bubbles show the different topics. The size of them indicates the portion of the odcument each topic covers. Topic 3 has the largest distribution, suggesting it dominates a signficant portion of the documents. The spatial arragement of the topics shows the distances between them. Topics that are further apart like topics 1 adn 3 are less similar in terms of the words they use while topics like 2 and 4, are closer together and share more vocabulary.\n",
    "\n",
    "The Salient Terms graph show the top 30 most relevant terms for each topic. In Topic 3, terms like \"president\", \"city\", and state suggest a gocus on more political thhemes. On the other hand, Topioc 1 includes words like  \"said,\" \"mrs,\" and \"little,\" pointing towards more conversational or narrative themes. The length of the bars indicaate the overall frequency of each othe terms, while the red shading indicates how strong a term is associated with  particular topic.\n",
    "\n",
    "All together, the visualization shows that the LDA model has successfully identified distinct themes. Topics like Topic 3 and Topic 1 have minimal overlap, indicating clear differentiation, while others have more shared vocabulary, as seen in their distance on the scatterplot. The salient terms graph further underscores the dominant concepts driving each topic, offering a clear understanding of the themes within the corpus.\n"
   ]
  }
 ],
 "metadata": {
  "kernelspec": {
   "display_name": "Python 3 (ipykernel)",
   "language": "python",
   "name": "python3"
  },
  "language_info": {
   "codemirror_mode": {
    "name": "ipython",
    "version": 3
   },
   "file_extension": ".py",
   "mimetype": "text/x-python",
   "name": "python",
   "nbconvert_exporter": "python",
   "pygments_lexer": "ipython3",
   "version": "3.10.9"
  }
 },
 "nbformat": 4,
 "nbformat_minor": 5
}
